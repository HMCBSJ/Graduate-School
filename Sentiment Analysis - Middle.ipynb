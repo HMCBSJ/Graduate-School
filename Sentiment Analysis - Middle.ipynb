{
 "cells": [
  {
   "cell_type": "markdown",
   "metadata": {},
   "source": [
    "## Sentiment Analysis \n",
    "**-動機-**  \n",
    "* 對自然語處理感到興趣啓發，趁這次的自中考的題目，決定研究怎麽去前處理文字的分析。<br>對機器學習來講 前處理是很重要的 所以以下會用各種方法來看結果會如何"
   ]
  },
  {
   "cell_type": "markdown",
   "metadata": {},
   "source": [
    "**-分析資料介紹-**\n",
    "\n",
    "* Data Set Name: Sentiment Labelled Sentences Data Set\n",
    "\n",
    "* Data Set Source:UCI Machine Learning Libarary (https://archive.ics.uci.edu/ml/datasets/Sentiment+Labelled+Sentences)\n",
    "\n",
    "* Data Set Info: 這資料包含 yelp，imdb， amazon。留言内容為餐廳評價，電影及產品評價。 1代表Positive， 0代表Negative"
   ]
  },
  {
   "cell_type": "markdown",
   "metadata": {
    "ExecuteTime": {
     "end_time": "2019-04-18T20:19:26.126609Z",
     "start_time": "2019-04-18T20:19:26.111014Z"
    }
   },
   "source": [
    "**-簡單分析方法介紹-**<br><br>\n",
    "1）先使用最簡單前處理的方法來，瞭解我的資料以及看資料裏面包含Positive跟Negative的比率<br><br> 2）前處理使用 tag,ngram,Mark Negation等 5種方法來看看結果如何<br><br> 3）使用 SVM, Logistic Regression, SGD的方法來，比較各個模型的準確率<br><br>4) 比較有前處理跟沒有的結果 <br><br> 5）選最好的結果來畫出來confusion matrix更清楚第瞭解分析結果"
   ]
  },
  {
   "cell_type": "code",
   "execution_count": 34,
   "metadata": {
    "ExecuteTime": {
     "end_time": "2019-04-18T16:13:06.011898Z",
     "start_time": "2019-04-18T16:13:05.543170Z"
    }
   },
   "outputs": [],
   "source": [
    "# 先 import在自然語分類時用到的 library\n",
    "import os\n",
    "import numpy as np\n",
    "import re\n",
    "import nltk\n",
    "from nltk.corpus import wordnet as wn\n",
    "from nltk.stem import WordNetLemmatizer\n",
    "from nltk import word_tokenize\n",
    "from nltk.sentiment.util import mark_negation\n",
    "#nltk.download()\n",
    "#nltk.download('stopwords')\n",
    "from nltk.corpus import stopwords\n",
    "\n",
    "\n",
    "#爲了看畫圖 使用 matplotlib.pyplot及可以操控資料樣子的pandas\n",
    "import matplotlib.pyplot as plt\n",
    "import pandas as pd\n",
    "\n",
    "#使用以下的機器學習的分類器\n",
    "from sklearn import svm\n",
    "from sklearn.linear_model import SGDClassifier\n",
    "from sklearn.linear_model import LogisticRegression\n",
    "from sklearn.pipeline import Pipeline\n",
    "from sklearn.feature_extraction.text import CountVectorizer\n",
    "from sklearn.feature_extraction.text import TfidfTransformer\n",
    "from nltk.stem.snowball import SnowballStemmer"
   ]
  },
  {
   "cell_type": "code",
   "execution_count": 36,
   "metadata": {
    "ExecuteTime": {
     "end_time": "2019-04-18T16:13:08.230744Z",
     "start_time": "2019-04-18T16:13:08.215022Z"
    }
   },
   "outputs": [],
   "source": [
    "#我要用的三個資料合起來 （amazon ,yelp, amazon）\n",
    "import shutil\n",
    "with open('sentiment_analysis.txt','wb') as wfd:\n",
    "    for f in ['yelp_labelled.txt', 'imdb_labelled.txt', 'amazon_cells_labelled.txt']:\n",
    "        with open(f,'rb') as fd:\n",
    "            shutil.copyfileobj(fd, wfd)"
   ]
  },
  {
   "cell_type": "code",
   "execution_count": 37,
   "metadata": {
    "ExecuteTime": {
     "end_time": "2019-04-18T16:13:09.105616Z",
     "start_time": "2019-04-18T16:13:09.089990Z"
    }
   },
   "outputs": [],
   "source": [
    "#把我的資料變成 DataFrame瞭解我資料的樣子及内容\n",
    "input_file = \"sentiment_analysis.txt\"\n",
    "dt = pd.read_csv(input_file,delimiter='\\t',header=None)\n",
    "dt.columns = ['Sentence','Class']\n",
    "#爲了比較好好操控下面要畫出來Positiveg跟Negative比率的畫圖， 貼上去index列\n",
    "dt['index'] = dt.index"
   ]
  },
  {
   "cell_type": "code",
   "execution_count": 38,
   "metadata": {
    "ExecuteTime": {
     "end_time": "2019-04-18T16:13:09.746239Z",
     "start_time": "2019-04-18T16:13:09.730615Z"
    }
   },
   "outputs": [
    {
     "data": {
      "text/plain": [
       "(2748, 3)"
      ]
     },
     "execution_count": 38,
     "metadata": {},
     "output_type": "execute_result"
    }
   ],
   "source": [
    "#看看我的資料的樣子 確認是不是對（amazon：748 ,yelp: 1000, amazon : 1000  記起來 2748個行）\n",
    "dt.shape"
   ]
  },
  {
   "cell_type": "markdown",
   "metadata": {},
   "source": [
    "## 先瞭解我的資料的樣子"
   ]
  },
  {
   "cell_type": "code",
   "execution_count": 46,
   "metadata": {
    "ExecuteTime": {
     "end_time": "2019-04-18T16:21:50.274042Z",
     "start_time": "2019-04-18T16:21:50.258417Z"
    }
   },
   "outputs": [
    {
     "data": {
      "text/html": [
       "<div>\n",
       "<style scoped>\n",
       "    .dataframe tbody tr th:only-of-type {\n",
       "        vertical-align: middle;\n",
       "    }\n",
       "\n",
       "    .dataframe tbody tr th {\n",
       "        vertical-align: top;\n",
       "    }\n",
       "\n",
       "    .dataframe thead th {\n",
       "        text-align: right;\n",
       "    }\n",
       "</style>\n",
       "<table border=\"1\" class=\"dataframe\">\n",
       "  <thead>\n",
       "    <tr style=\"text-align: right;\">\n",
       "      <th></th>\n",
       "      <th>Sentence</th>\n",
       "      <th>Class</th>\n",
       "      <th>index</th>\n",
       "    </tr>\n",
       "  </thead>\n",
       "  <tbody>\n",
       "    <tr>\n",
       "      <th>0</th>\n",
       "      <td>Wow... Loved this place.</td>\n",
       "      <td>1</td>\n",
       "      <td>0</td>\n",
       "    </tr>\n",
       "    <tr>\n",
       "      <th>1</th>\n",
       "      <td>Crust is not good.</td>\n",
       "      <td>0</td>\n",
       "      <td>1</td>\n",
       "    </tr>\n",
       "    <tr>\n",
       "      <th>2</th>\n",
       "      <td>Not tasty and the texture was just nasty.</td>\n",
       "      <td>0</td>\n",
       "      <td>2</td>\n",
       "    </tr>\n",
       "    <tr>\n",
       "      <th>3</th>\n",
       "      <td>Stopped by during the late May bank holiday of...</td>\n",
       "      <td>1</td>\n",
       "      <td>3</td>\n",
       "    </tr>\n",
       "    <tr>\n",
       "      <th>4</th>\n",
       "      <td>The selection on the menu was great and so wer...</td>\n",
       "      <td>1</td>\n",
       "      <td>4</td>\n",
       "    </tr>\n",
       "  </tbody>\n",
       "</table>\n",
       "</div>"
      ],
      "text/plain": [
       "                                            Sentence  Class  index\n",
       "0                           Wow... Loved this place.      1      0\n",
       "1                                 Crust is not good.      0      1\n",
       "2          Not tasty and the texture was just nasty.      0      2\n",
       "3  Stopped by during the late May bank holiday of...      1      3\n",
       "4  The selection on the menu was great and so wer...      1      4"
      ]
     },
     "execution_count": 46,
     "metadata": {},
     "output_type": "execute_result"
    }
   ],
   "source": [
    "#先看我的資料是否被讀的好\n",
    "dt.head()"
   ]
  },
  {
   "cell_type": "code",
   "execution_count": 86,
   "metadata": {
    "ExecuteTime": {
     "end_time": "2019-04-18T17:03:09.623013Z",
     "start_time": "2019-04-18T17:03:09.560514Z"
    }
   },
   "outputs": [
    {
     "name": "stdout",
     "output_type": "stream",
     "text": [
      "      Class  COUNT\n",
      "1  Positive   1386\n",
      "0  Negative   1362\n"
     ]
    },
    {
     "data": {
      "image/png": "[encoded data removed]",
      "text/plain": [
       "<Figure size 720x360 with 1 Axes>"
      ]
     },
     "metadata": {},
     "output_type": "display_data"
    }
   ],
   "source": [
    "#算Positive跟Negative多少\n",
    "pd.set_option('display.width', 4000)\n",
    "pd.set_option('display.max_rows', 1000)\n",
    "Pos_NegPortion = dt.groupby(by='Class', as_index=False).agg({'index': pd.Series.nunique}).sort_values(by='index', ascending=False)\n",
    "Pos_NegPortion.columns =['Class', 'COUNT']\n",
    "#爲了比較能看清楚哪一個是Positive，哪一個是Negative 重新把新的名字給Classl列\n",
    "Pos_NegPortion['Class']=['Positive','Negative']\n",
    "print(Pos_NegPortion)\n",
    "#畫出來資料裏面Positive跟Negative多少，直觀地瞭解我的資料\n",
    "fig1, ax1 = plt.subplots(figsize=(10,5))\n",
    "labels = 'Positive', 'Negative'\n",
    "colors = 'dodgerblue',  'darkorchid'\n",
    "ax1.pie(Pos_NegPortion['COUNT'],autopct='%1.2f%%',shadow=True, startangle=90, labels=labels, colors=colors)\n",
    "plt.show()"
   ]
  },
  {
   "cell_type": "markdown",
   "metadata": {},
   "source": [
    "* 從這結果可以知道，我們的資料的平衡的 是一個好的資料， 可以期待分析出來的結果品質是好的"
   ]
  },
  {
   "cell_type": "markdown",
   "metadata": {},
   "source": [
    "## 開始主要的工作前處理"
   ]
  },
  {
   "cell_type": "code",
   "execution_count": 84,
   "metadata": {
    "ExecuteTime": {
     "end_time": "2019-04-18T16:53:19.794835Z",
     "start_time": "2019-04-18T16:53:19.763586Z"
    }
   },
   "outputs": [],
   "source": [
    "#先做出來在下面的前處理會用到的函數\n",
    "#若是名詞，動詞或形容詞等關鍵文法上重要的單詞十，判斷成Positive tagging\n",
    "def tag_text(tag):\n",
    "\tif tag.startswith('J'):\n",
    "\t\treturn wn.ADJ\n",
    "\telif tag.startswith('N'):\n",
    "\t\treturn wn.NOUN\n",
    "\telif tag.startswith('R'):\n",
    "\t\treturn wn.ADV\n",
    "\telif tag.startswith('V'):\n",
    "\t\treturn wn.VERB\n",
    "\telif tag.startswith('I'):\n",
    "\t\treturn wn.VERB\n",
    "\treturn None"
   ]
  },
  {
   "cell_type": "markdown",
   "metadata": {
    "ExecuteTime": {
     "end_time": "2019-04-18T17:18:25.230123Z",
     "start_time": "2019-04-18T17:18:25.214496Z"
    }
   },
   "source": [
    "* 在以下使用的前處理方法是 總共5個：<br>1. 把每個句子的大寫變成小寫<br>2. positive tagging(包含把no跟like除掉)<br>3. 把the除掉<br>4. mark negation<br>5.feature ngram"
   ]
  },
  {
   "cell_type": "code",
   "execution_count": 85,
   "metadata": {
    "ExecuteTime": {
     "end_time": "2019-04-18T16:53:23.732337Z",
     "start_time": "2019-04-18T16:53:20.622961Z"
    }
   },
   "outputs": [],
   "source": [
    "#先做出來兩個可以放句子的 data變數及 可以放預測好的實際資料的label變數\n",
    "#（label變數的内容 若是Positive為1,Negative為0）\n",
    "data = []\n",
    "label = []\n",
    "#先把要處理的檔案輸入出來\n",
    "with open('./sentiment_analysis.txt') as f:\n",
    "    for i in f:\n",
    "        #把檔案裏面連續的句子 切開成一個一個的句子\n",
    "        document = i.split('\\t')[0]\n",
    "        #1. 把每個句子的大寫變成小寫\n",
    "        document = word_tokenize(document.lower())\n",
    "        #2. 使用nltk來把句子裏面的 動詞，名詞，形容詞，副詞給標志（tagging）\n",
    "        tagged = nltk.pos_tag(document)\n",
    "        #把document的變數做出來以後放處理的文字\n",
    "        document = []\n",
    "        for word, tag in tagged:\n",
    "            wn_tag = tag_text(tag)\n",
    "            #把no跟like除掉\n",
    "            if (word == 'no' or word == 'like'):\n",
    "                wn_tag = wn.ADJ\n",
    "            # 3. 把the\"除掉（語言處理的時候不重要的部分）\n",
    "            elif wn_tag not in (wn.NOUN, wn.ADJ, wn.ADV, wn.VERB):\n",
    "                continue\n",
    "            lemma = stemmer.lemmatize(word, pos=wn_tag)\n",
    "            if not lemma:\n",
    "                continue\n",
    "            document.append(lemma)\n",
    "        document2 = document.copy()\n",
    "        # 4. 以下是處理Negative的部分 若是negative，使用mark negation\n",
    "        document = mark_negation(document)\n",
    "        for x in range(0,len(document)-1):\n",
    "            #5.  爲了把文字之間的relation放在考慮裏面 ，使用feature ngram的方法，可以强調文字之間的意思\n",
    "            #ex ) I am no love >> I_am am_no no_love         \n",
    "            document.append(document[x]+'_'+document[x+1])\n",
    "        for l in document2:\n",
    "            for s in keywords:\n",
    "                temp = l\n",
    "                # 以下Mark negation方法的例子 ： I no love >> no love_NEG\n",
    "                if (l.replace('_NEG','') == s):\n",
    "                    document.append(temp)\n",
    "                    document.append(temp)\n",
    "                    \n",
    "        #把前處理好的資料合起來\n",
    "        document = ' '.join(document)\n",
    "        data.append(document)\n",
    "        # label column貼在文字的column， 把兩個資料合起來\n",
    "        label.append(i.split('\\t')[1].replace('\\n',''))"
   ]
  },
  {
   "cell_type": "markdown",
   "metadata": {},
   "source": [
    "* 一下使用CountVectorizer跟TfidfTransformer。"
   ]
  },
  {
   "cell_type": "code",
   "execution_count": 252,
   "metadata": {
    "ExecuteTime": {
     "end_time": "2019-04-18T20:52:36.031277Z",
     "start_time": "2019-04-18T20:52:35.906333Z"
    }
   },
   "outputs": [],
   "source": [
    "#CountVectorizer本身提供ngram的方法，因爲我有自己寫好沒有再使用。\n",
    "#照著頻率把文字給Vectorize\n",
    "count_vect = CountVectorizer(lowercase=True, binary=False)\n",
    "X_train_counts = count_vect.fit_transform(data)\n",
    "\n",
    "#例如is, be這種單詞 出現的頻率很多 可是不是很重要所以使用Tfidf來評估文字之間的連貫性\n",
    "tfidf_transformer = TfidfTransformer()\n",
    "X_train_tfidf = tfidf_transformer.fit_transform(X_train_counts)"
   ]
  },
  {
   "cell_type": "markdown",
   "metadata": {},
   "source": [
    "## 開始使用機器學習的Model<br><br>* 看看能不能好好預測Positive跟Negative的句子 *"
   ]
  },
  {
   "cell_type": "code",
   "execution_count": 130,
   "metadata": {
    "ExecuteTime": {
     "end_time": "2019-04-18T18:04:47.194960Z",
     "start_time": "2019-04-18T18:04:47.163711Z"
    }
   },
   "outputs": [
    {
     "name": "stdout",
     "output_type": "stream",
     "text": [
      "shape = (3000, 22179)\n"
     ]
    }
   ],
   "source": [
    "#把資料切開成Train 跟 Test \n",
    "from sklearn.model_selection import train_test_split  \n",
    "X_train, X_test, y_train, y_test = train_test_split(X_train_counts, label, test_size=0.2, random_state=87)\n",
    "\n",
    "print(\"shape = {}\".format(X_train_counts.shape))"
   ]
  },
  {
   "cell_type": "markdown",
   "metadata": {},
   "source": [
    "**<先簡單看看各種方法的結果之後， 下面做出來一個confusion matrix>**"
   ]
  },
  {
   "cell_type": "markdown",
   "metadata": {},
   "source": [
    "* SVM "
   ]
  },
  {
   "cell_type": "code",
   "execution_count": 131,
   "metadata": {
    "ExecuteTime": {
     "end_time": "2019-04-18T18:04:51.101209Z",
     "start_time": "2019-04-18T18:04:50.476210Z"
    }
   },
   "outputs": [
    {
     "name": "stdout",
     "output_type": "stream",
     "text": [
      "Score SVM: 0.8183333333333334\n"
     ]
    }
   ],
   "source": [
    "classifier_linear = svm.SVC(kernel='linear')\n",
    "classifier_linear.fit(X_train, y_train)\n",
    "print(\"Score SVM:\", classifier_linear.score(X_test, y_test))"
   ]
  },
  {
   "cell_type": "markdown",
   "metadata": {},
   "source": [
    "* SGDClassifier"
   ]
  },
  {
   "cell_type": "code",
   "execution_count": 132,
   "metadata": {
    "ExecuteTime": {
     "end_time": "2019-04-18T18:04:55.257461Z",
     "start_time": "2019-04-18T18:04:55.226213Z"
    }
   },
   "outputs": [
    {
     "name": "stdout",
     "output_type": "stream",
     "text": [
      "Score SGD: 0.8266666666666667\n"
     ]
    }
   ],
   "source": [
    "clf = SGDClassifier(max_iter=1000, tol=1e-3,loss='hinge', penalty='l2',alpha=1e-3, random_state=42)\n",
    "clf.fit(X_train, y_train)\n",
    "print(\"Score SGD:\", clf.score(X_test, y_test))"
   ]
  },
  {
   "cell_type": "markdown",
   "metadata": {},
   "source": [
    "* logistic Regresstion"
   ]
  },
  {
   "cell_type": "code",
   "execution_count": 133,
   "metadata": {
    "ExecuteTime": {
     "end_time": "2019-04-18T18:04:56.851210Z",
     "start_time": "2019-04-18T18:04:56.819959Z"
    }
   },
   "outputs": [
    {
     "name": "stdout",
     "output_type": "stream",
     "text": [
      "Score LR: 0.8333333333333334\n"
     ]
    }
   ],
   "source": [
    "classifier = LogisticRegression()\n",
    "classifier.fit(X_train, y_train)\n",
    "print(\"Score LR:\", classifier.score(X_test, y_test))"
   ]
  },
  {
   "cell_type": "markdown",
   "metadata": {},
   "source": [
    "## 跟沒有前處理的結果比較<br><br> - 發現反而前處理得比較少的時候結果比較好"
   ]
  },
  {
   "cell_type": "code",
   "execution_count": 150,
   "metadata": {
    "ExecuteTime": {
     "end_time": "2019-04-18T18:24:45.466849Z",
     "start_time": "2019-04-18T18:24:44.982472Z"
    }
   },
   "outputs": [
    {
     "name": "stdout",
     "output_type": "stream",
     "text": [
      "shape = (7002, 23417)\n"
     ]
    }
   ],
   "source": [
    "with open('./amazon_cells_labelled.txt') as f:\n",
    "    for i in f:\n",
    "        document = i.split('\\t')[0]\n",
    "        document = word_tokenize(document.lower())\n",
    "        document = ' '.join(document)\n",
    "        data.append(document)\n",
    "        label.append(i.split('\\t')[1].replace('\\n',''))\n",
    "with open('./imdb_labelled.txt') as f:\n",
    "    for i in f:\n",
    "        document = i.split('\\t')[0]\n",
    "        document = word_tokenize(document.lower())\n",
    "        document = ' '.join(document)\n",
    "        data.append(document)\n",
    "        label.append(i.split('\\t')[1].replace('\\n',''))\n",
    "with open('./yelp_labelled.txt') as f:\n",
    "    for i in f:\n",
    "        document = i.split('\\t')[0]\n",
    "        document = word_tokenize(document.lower())\n",
    "    document =' '.join(document)\n",
    "    data.append(document)\n",
    "    label.append(i.split('\\t')[1].replace('\\n',''))\n",
    "    \n",
    "count_vect = CountVectorizer(lowercase=True, binary=False)\n",
    "X_train_counts = count_vect.fit_transform(data)\n",
    "\n",
    "tfidf_transformer = TfidfTransformer()\n",
    "X_train_tfidf = tfidf_transformer.fit_transform(X_train_counts)\n",
    "\n",
    "from sklearn.model_selection import train_test_split  \n",
    "X_train, X_test, y_train, y_test = train_test_split(X_train_counts, label, test_size=0.2, random_state=87)\n",
    "\n",
    "print(\"shape = {}\".format(X_train_counts.shape))"
   ]
  },
  {
   "cell_type": "markdown",
   "metadata": {},
   "source": [
    "*----------------------------------------------------------------------------------------------------------------------------------------------------------------------*\n",
    "* SVM"
   ]
  },
  {
   "cell_type": "code",
   "execution_count": 151,
   "metadata": {
    "ExecuteTime": {
     "end_time": "2019-04-18T18:25:00.779346Z",
     "start_time": "2019-04-18T18:24:58.685597Z"
    }
   },
   "outputs": [
    {
     "name": "stdout",
     "output_type": "stream",
     "text": [
      "Score SVM: 0.9350463954318344\n"
     ]
    }
   ],
   "source": [
    "classifier_linear = svm.SVC(kernel='linear')\n",
    "classifier_linear.fit(X_train, y_train)\n",
    "print(\"Score SVM:\", classifier_linear.score(X_test, y_test))"
   ]
  },
  {
   "cell_type": "markdown",
   "metadata": {},
   "source": [
    "* SGDClassifier"
   ]
  },
  {
   "cell_type": "code",
   "execution_count": 152,
   "metadata": {
    "ExecuteTime": {
     "end_time": "2019-04-18T18:25:09.807310Z",
     "start_time": "2019-04-18T18:25:09.776031Z"
    }
   },
   "outputs": [
    {
     "name": "stdout",
     "output_type": "stream",
     "text": [
      "Score SGD: 0.9172019985724482\n"
     ]
    }
   ],
   "source": [
    "clf = SGDClassifier(max_iter=1000, tol=1e-3,loss='hinge', penalty='l2',alpha=1e-3, random_state=42)\n",
    "clf.fit(X_train, y_train)\n",
    "print(\"Score SGD:\", clf.score(X_test, y_test))"
   ]
  },
  {
   "cell_type": "markdown",
   "metadata": {},
   "source": [
    "* SGDClassifier"
   ]
  },
  {
   "cell_type": "code",
   "execution_count": 153,
   "metadata": {
    "ExecuteTime": {
     "end_time": "2019-04-18T18:25:17.572910Z",
     "start_time": "2019-04-18T18:25:17.510407Z"
    }
   },
   "outputs": [
    {
     "name": "stdout",
     "output_type": "stream",
     "text": [
      "Score LR: 0.9193433261955746\n"
     ]
    }
   ],
   "source": [
    "classifier = LogisticRegression()\n",
    "classifier.fit(X_train, y_train)\n",
    "print(\"Score LR:\", classifier.score(X_test, y_test))"
   ]
  },
  {
   "cell_type": "markdown",
   "metadata": {},
   "source": [
    "*----------------------------------------------------------------------------------------------------------------------------------------------------------------------*"
   ]
  },
  {
   "cell_type": "code",
   "execution_count": 187,
   "metadata": {
    "ExecuteTime": {
     "end_time": "2019-04-18T18:52:28.697185Z",
     "start_time": "2019-04-18T18:52:28.415937Z"
    }
   },
   "outputs": [
    {
     "name": "stdout",
     "output_type": "stream",
     "text": [
      "(1401,) (1401, 23417)\n"
     ]
    }
   ],
   "source": [
    "#爲了做出confusion matrix做 而算出x的預測\n",
    "xpredict = classifier_linear.predict(X_test)\n",
    "print(xpredict.shape, X_test.shape)"
   ]
  },
  {
   "cell_type": "code",
   "execution_count": 236,
   "metadata": {
    "ExecuteTime": {
     "end_time": "2019-04-18T19:24:23.334506Z",
     "start_time": "2019-04-18T19:24:23.318884Z"
    }
   },
   "outputs": [
    {
     "name": "stdout",
     "output_type": "stream",
     "text": [
      "[[653  40]\n",
      " [ 51 657]]\n"
     ]
    }
   ],
   "source": [
    "#簡單看看confusion matrix的樣子\n",
    "from sklearn.metrics import confusion_matrix\n",
    "print(confusion_matrix(xpredict, y_test))"
   ]
  },
  {
   "cell_type": "markdown",
   "metadata": {},
   "source": [
    "## 畫出來confusion matrix來更清楚的看分析的結果<br><br>選最好的結果 - 沒有前處理的SVM model"
   ]
  },
  {
   "cell_type": "code",
   "execution_count": 234,
   "metadata": {
    "ExecuteTime": {
     "end_time": "2019-04-18T19:20:19.991200Z",
     "start_time": "2019-04-18T19:20:19.975568Z"
    }
   },
   "outputs": [],
   "source": [
    "#我自己再次修改高手的confusion matrix （source: https://www.kaggle.com/grfiv4/plot-a-confusion-matrix）\n",
    "import matplotlib.pyplot as plt\n",
    "import itertools\n",
    "def plot_confusion_matrix(cm, classes,\n",
    "                          normalize=False,\n",
    "                          title='Confusion matrix',\n",
    "                          cmap=plt.cm.Greens):\n",
    "    if normalize:\n",
    "        cm = cm.astype('float') / cm.sum(axis=1)[:, np.newaxis]\n",
    "        #print(\"Normalized confusion matrix\")\n",
    "    else:\n",
    "        print()\n",
    "    plt.imshow(cm, interpolation='nearest', cmap=cmap, aspect='auto')\n",
    "    plt.title(title)\n",
    "    plt.colorbar()\n",
    "    tick_marks = np.arange(len(classes))\n",
    "    plt.xticks(tick_marks, classes, rotation=45)\n",
    "    plt.yticks(tick_marks, classes)\n",
    "    fmt = '.2f' if normalize else 'd'\n",
    "    thresh = cm.max() / 2.\n",
    "    for i, j in itertools.product(range(cm.shape[0]), range(cm.shape[1])):\n",
    "        plt.text(j, i, format(cm[i, j], fmt),\n",
    "                 horizontalalignment=\"center\",\n",
    "                 color=\"white\" if cm[i, j] > thresh else \"r\")\n",
    "    plt.tight_layout()\n",
    "    plt.ylabel('True label')\n",
    "    plt.xlabel('Predicted label')\n",
    "    plt.figure(figsize=(150,100))"
   ]
  },
  {
   "cell_type": "code",
   "execution_count": 207,
   "metadata": {
    "ExecuteTime": {
     "end_time": "2019-04-18T19:08:45.057414Z",
     "start_time": "2019-04-18T19:08:45.041813Z"
    }
   },
   "outputs": [
    {
     "name": "stdout",
     "output_type": "stream",
     "text": [
      "(7002, 1)\n",
      "(7002, 1)\n"
     ]
    }
   ],
   "source": [
    "#爲了把結果用confusion matrix 畫出來處理資料\n",
    "dt = pd.DataFrame(data)\n",
    "lb = pd.DataFrame(label)\n",
    "print(dt.shape)\n",
    "print(lb.shape)\n",
    "#把label放在df\n",
    "dt[1]=lb\n",
    "#把名字給表格的列\n",
    "dt.columns = ['Sentence','Class']"
   ]
  },
  {
   "cell_type": "code",
   "execution_count": 244,
   "metadata": {
    "ExecuteTime": {
     "end_time": "2019-04-18T19:42:40.999995Z",
     "start_time": "2019-04-18T19:42:40.703121Z"
    }
   },
   "outputs": [
    {
     "data": {
      "text/html": [
       "<div>\n",
       "<style scoped>\n",
       "    .dataframe tbody tr th:only-of-type {\n",
       "        vertical-align: middle;\n",
       "    }\n",
       "\n",
       "    .dataframe tbody tr th {\n",
       "        vertical-align: top;\n",
       "    }\n",
       "\n",
       "    .dataframe thead th {\n",
       "        text-align: right;\n",
       "    }\n",
       "</style>\n",
       "<table border=\"1\" class=\"dataframe\">\n",
       "  <thead>\n",
       "    <tr style=\"text-align: right;\">\n",
       "      <th></th>\n",
       "      <th>Category</th>\n",
       "      <th>Index</th>\n",
       "    </tr>\n",
       "  </thead>\n",
       "  <tbody>\n",
       "    <tr>\n",
       "      <th>0</th>\n",
       "      <td>1</td>\n",
       "      <td>1</td>\n",
       "    </tr>\n",
       "    <tr>\n",
       "      <th>1</th>\n",
       "      <td>0</td>\n",
       "      <td>2</td>\n",
       "    </tr>\n",
       "  </tbody>\n",
       "</table>\n",
       "</div>"
      ],
      "text/plain": [
       "  Category  Index\n",
       "0        1      1\n",
       "1        0      2"
      ]
     },
     "execution_count": 244,
     "metadata": {},
     "output_type": "execute_result"
    },
    {
     "data": {
      "image/png": "[encoded data removed]",
      "text/plain": [
       "<Figure size 432x288 with 2 Axes>"
      ]
     },
     "metadata": {
      "needs_background": "light"
     },
     "output_type": "display_data"
    },
    {
     "data": {
      "text/plain": [
       "<Figure size 10800x7200 with 0 Axes>"
      ]
     },
     "metadata": {},
     "output_type": "display_data"
    }
   ],
   "source": [
    "#修改資料的Dataframe\n",
    "#dt = dt.drop(\"index\", 1)\n",
    "dt = dt[['Class','Sentence']]\n",
    "# Compute confusion matrix\n",
    "classes  = dt['Class'].unique()\n",
    "classifier_linear_matrix = confusion_matrix(y_test, xpredict,classes) \n",
    "np.set_printoptions(precision=2)\n",
    "class_name = range(1,classes.size+1)\n",
    "# Plot non-normalized confusion matrix\n",
    "plt.figure()\n",
    "plot_confusion_matrix(classifier_linear_matrix, classes=class_name,title='Confusion matrix with normalization',\n",
    "                                          normalize=True)\n",
    "class_frame = pd.DataFrame(data=[])\n",
    "for i in range(0,classes.size):\n",
    "    class_frame  = class_frame.append([[classes[i],i+1]],ignore_index=True)\n",
    "class_frame.columns=['Category','Index']\n",
    "class_frame"
   ]
  },
  {
   "cell_type": "markdown",
   "metadata": {},
   "source": [
    "## 心得 ：\n",
    "* 透過這此其中報告的機會，我第一次建造出來自然語言分析的模型。 雖然實驗當中間碰到許多Error， 相對的過程當中，學到的也很多。尤其是現在覺得對操控pandas方面比較有上手。覺得這是對Data Scientist來講是最基本的能力。<br>\n",
    "* 這次用到的資料本身已經是很平衡， 所以沒有前處理的時候， 還是得到更好的結果。但是，**我知道以後會碰到的資料可能更複雜而且更大或許太小。這時候，真的需要很多的前處理的工作才能提高準確率。** 以後也要使用很多不同的方法來做實驗，讓我對資料分析的視野變得更廣"
   ]
  },
  {
   "cell_type": "markdown",
   "metadata": {},
   "source": [
    "## Future Work \n",
    "* 參加有關自然語言的比賽（kaggle）來提高資料分析的能力 - 以後可以做做看 Author Recognition，Chatbot\n",
    "* 要自己寫出來這次用到的SVM, Logistic Regression的機器學習函數"
   ]
  },
  {
   "cell_type": "code",
   "execution_count": null,
   "metadata": {},
   "outputs": [],
   "source": []
  }
 ],
 "metadata": {
  "kernelspec": {
   "display_name": "Python [conda env:brent]",
   "language": "python",
   "name": "conda-env-brent-py"
  },
  "language_info": {
   "codemirror_mode": {
    "name": "ipython",
    "version": 3
   },
   "file_extension": ".py",
   "mimetype": "text/x-python",
   "name": "python",
   "nbconvert_exporter": "python",
   "pygments_lexer": "ipython3",
   "version": "3.6.7"
  },
  "toc": {
   "base_numbering": 1,
   "nav_menu": {},
   "number_sections": true,
   "sideBar": true,
   "skip_h1_title": false,
   "title_cell": "Table of Contents",
   "title_sidebar": "Contents",
   "toc_cell": false,
   "toc_position": {},
   "toc_section_display": true,
   "toc_window_display": false
  },
  "varInspector": {
   "cols": {
    "lenName": 16,
    "lenType": 16,
    "lenVar": 40
   },
   "kernels_config": {
    "python": {
     "delete_cmd_postfix": "",
     "delete_cmd_prefix": "del ",
     "library": "var_list.py",
     "varRefreshCmd": "print(var_dic_list())"
    },
    "r": {
     "delete_cmd_postfix": ") ",
     "delete_cmd_prefix": "rm(",
     "library": "var_list.r",
     "varRefreshCmd": "cat(var_dic_list()) "
    }
   },
   "types_to_exclude": [
    "module",
    "function",
    "builtin_function_or_method",
    "instance",
    "_Feature"
   ],
   "window_display": false
  }
 },
 "nbformat": 4,
 "nbformat_minor": 2
}
