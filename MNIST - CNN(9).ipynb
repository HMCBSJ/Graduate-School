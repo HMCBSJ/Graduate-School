{
 "cells": [
  {
   "cell_type": "code",
   "execution_count": 45,
   "metadata": {
    "ExecuteTime": {
     "end_time": "2019-05-07T13:00:22.016636Z",
     "start_time": "2019-05-07T13:00:22.000936Z"
    }
   },
   "outputs": [
    {
     "name": "stdout",
     "output_type": "stream",
     "text": [
      "env: KERAS_BACKEND=tensorflow\n"
     ]
    }
   ],
   "source": [
    "%env KERAS_BACKEND=tensorflow"
   ]
  },
  {
   "cell_type": "markdown",
   "metadata": {},
   "source": [
    "### Import會用到的套件"
   ]
  },
  {
   "cell_type": "code",
   "execution_count": 46,
   "metadata": {
    "ExecuteTime": {
     "end_time": "2019-05-07T13:00:22.579130Z",
     "start_time": "2019-05-07T13:00:22.532216Z"
    }
   },
   "outputs": [],
   "source": [
    "%matplotlib inline\n",
    "import numpy as np\n",
    "import matplotlib.pyplot as plt\n",
    "from keras.backend import set_session\n",
    "import tensorflow as tf\n",
    "import os\n",
    "def create_session(gpu_id='0', pp_mem_frac=None):\n",
    "\n",
    "    tf.reset_default_graph()\n",
    "    os.environ[\"CUDA_VISIBLE_DEVICES\"] = gpu_id # can multiple?\n",
    "    with tf.device('/gpu:' + gpu_id):\n",
    "        config = tf.ConfigProto()\n",
    "        config.gpu_options.allow_growth = True\n",
    "        if pp_mem_frac is not None:\n",
    "            config.gpu_options.per_process_gpu_memory_fraction=pp_mem_frac\n",
    "        session = tf.Session(config = config)\n",
    "    return session\n",
    "\n",
    "gpu_id = '0'\n",
    "sess = create_session(gpu_id)\n",
    "set_session(sess)"
   ]
  },
  {
   "cell_type": "markdown",
   "metadata": {},
   "source": [
    "### 讀取mnist dataset"
   ]
  },
  {
   "cell_type": "code",
   "execution_count": 47,
   "metadata": {
    "ExecuteTime": {
     "end_time": "2019-05-07T13:00:22.938450Z",
     "start_time": "2019-05-07T13:00:22.907238Z"
    }
   },
   "outputs": [],
   "source": [
    "from keras.datasets import mnist"
   ]
  },
  {
   "cell_type": "code",
   "execution_count": 48,
   "metadata": {
    "ExecuteTime": {
     "end_time": "2019-05-07T13:00:23.422788Z",
     "start_time": "2019-05-07T13:00:23.204103Z"
    }
   },
   "outputs": [],
   "source": [
    "(x_train, y_train),(x_test, y_test) = mnist.load_data()"
   ]
  },
  {
   "cell_type": "code",
   "execution_count": 50,
   "metadata": {
    "ExecuteTime": {
     "end_time": "2019-05-07T13:00:23.891636Z",
     "start_time": "2019-05-07T13:00:23.860312Z"
    }
   },
   "outputs": [
    {
     "data": {
      "text/plain": [
       "(60000, 28, 28)"
      ]
     },
     "execution_count": 50,
     "metadata": {},
     "output_type": "execute_result"
    }
   ],
   "source": [
    "#確認train data的大小\n",
    "x_train.shape"
   ]
  },
  {
   "cell_type": "markdown",
   "metadata": {},
   "source": [
    "cnn正規化很重要我這次只要用 不同Dense大小來達到高的準確率"
   ]
  },
  {
   "cell_type": "code",
   "execution_count": null,
   "metadata": {},
   "outputs": [],
   "source": [
    "# 正規化 - cnn很重要， 我這次只要用 不同Dense大小來達到高的準確率\n",
    "# x_train = x_train/225\n",
    "# x_test = x_test/225"
   ]
  },
  {
   "cell_type": "code",
   "execution_count": 51,
   "metadata": {
    "ExecuteTime": {
     "end_time": "2019-05-07T13:00:24.219712Z",
     "start_time": "2019-05-07T13:00:24.204102Z"
    }
   },
   "outputs": [],
   "source": [
    "x_train = x_train.reshape(60000, 28,28, 1)\n",
    "x_test = x_test.reshape(10000,28,28,1)"
   ]
  },
  {
   "cell_type": "code",
   "execution_count": 97,
   "metadata": {
    "ExecuteTime": {
     "end_time": "2019-05-09T13:22:12.308214Z",
     "start_time": "2019-05-09T13:22:12.292646Z"
    }
   },
   "outputs": [],
   "source": [
    "#看看x_train的樣子\n",
    "#x_train"
   ]
  },
  {
   "cell_type": "code",
   "execution_count": 53,
   "metadata": {
    "ExecuteTime": {
     "end_time": "2019-05-07T13:00:24.907214Z",
     "start_time": "2019-05-07T13:00:24.875937Z"
    }
   },
   "outputs": [
    {
     "data": {
      "text/plain": [
       "(28, 28, 1)"
      ]
     },
     "execution_count": 53,
     "metadata": {},
     "output_type": "execute_result"
    }
   ],
   "source": [
    "x_train[9487].shape"
   ]
  },
  {
   "cell_type": "code",
   "execution_count": 54,
   "metadata": {
    "ExecuteTime": {
     "end_time": "2019-05-07T13:00:25.250905Z",
     "start_time": "2019-05-07T13:00:25.235311Z"
    }
   },
   "outputs": [],
   "source": [
    "x = x_train[9487][:,:,0]"
   ]
  },
  {
   "cell_type": "code",
   "execution_count": 99,
   "metadata": {
    "ExecuteTime": {
     "end_time": "2019-05-09T13:22:37.964716Z",
     "start_time": "2019-05-09T13:22:37.949024Z"
    }
   },
   "outputs": [],
   "source": [
    "#看看x的樣子\n",
    "#x"
   ]
  },
  {
   "cell_type": "code",
   "execution_count": 56,
   "metadata": {
    "ExecuteTime": {
     "end_time": "2019-05-07T13:00:26.204038Z",
     "start_time": "2019-05-07T13:00:26.094687Z"
    },
    "scrolled": true
   },
   "outputs": [
    {
     "data": {
      "text/plain": [
       "<matplotlib.image.AxesImage at 0x1d1240828d0>"
      ]
     },
     "execution_count": 56,
     "metadata": {},
     "output_type": "execute_result"
    },
    {
     "data": {
      "image/png": "[encoded data removed]",
      "text/plain": [
       "<Figure size 432x288 with 1 Axes>"
      ]
     },
     "metadata": {
      "needs_background": "light"
     },
     "output_type": "display_data"
    }
   ],
   "source": [
    "#畫出來資料\n",
    "plt.imshow(x, cmap = 'Greys')"
   ]
  },
  {
   "cell_type": "code",
   "execution_count": 57,
   "metadata": {
    "ExecuteTime": {
     "end_time": "2019-05-07T13:00:26.969632Z",
     "start_time": "2019-05-07T13:00:26.954059Z"
    }
   },
   "outputs": [],
   "source": [
    "from keras.utils import np_utils"
   ]
  },
  {
   "cell_type": "markdown",
   "metadata": {},
   "source": [
    "### 資料前處理"
   ]
  },
  {
   "cell_type": "code",
   "execution_count": 58,
   "metadata": {
    "ExecuteTime": {
     "end_time": "2019-05-07T13:00:27.454006Z",
     "start_time": "2019-05-07T13:00:27.438433Z"
    }
   },
   "outputs": [],
   "source": [
    "#使用 one hot incoding\n",
    "y_train = np_utils.to_categorical(y_train, 10)\n",
    "y_test = np_utils.to_categorical(y_test, 10)"
   ]
  },
  {
   "cell_type": "markdown",
   "metadata": {},
   "source": [
    "### import CNN需要用到的套件"
   ]
  },
  {
   "cell_type": "code",
   "execution_count": 59,
   "metadata": {
    "ExecuteTime": {
     "end_time": "2019-05-07T13:00:28.016636Z",
     "start_time": "2019-05-07T13:00:28.000936Z"
    }
   },
   "outputs": [],
   "source": [
    "from keras.models import Sequential\n",
    "from keras.layers import Dense, Activation, Flatten\n",
    "from keras.layers import Conv2D, MaxPooling2D\n",
    "from keras.optimizers import SGD"
   ]
  },
  {
   "cell_type": "markdown",
   "metadata": {},
   "source": [
    "### 準備要使用的CNN Model - \n",
    "不同Dense大小來達到高的準確率"
   ]
  },
  {
   "cell_type": "code",
   "execution_count": 60,
   "metadata": {
    "ExecuteTime": {
     "end_time": "2019-05-07T13:00:28.422887Z",
     "start_time": "2019-05-07T13:00:28.391566Z"
    }
   },
   "outputs": [],
   "source": [
    "model= Sequential()"
   ]
  },
  {
   "cell_type": "code",
   "execution_count": 61,
   "metadata": {
    "ExecuteTime": {
     "end_time": "2019-05-07T13:00:30.250914Z",
     "start_time": "2019-05-07T13:00:30.157214Z"
    }
   },
   "outputs": [],
   "source": [
    "model.add(Conv2D(32, (3, 3),padding = 'same', input_shape=(28 ,28,1)))\n",
    "model.add(Activation('relu'))\n",
    "model.add(MaxPooling2D(pool_size=(2,2)))\n",
    "model.add(Conv2D(64, (3, 3), padding = 'same'))\n",
    "model.add(Activation('relu'))\n",
    "model.add(MaxPooling2D(pool_size=(2,2)))\n",
    "model.add(Conv2D(128, (3, 3), padding = 'same'))\n",
    "model.add(Activation('relu'))\n",
    "model.add(MaxPooling2D(pool_size=(2,2)))\n",
    "model.add(Flatten())\n",
    "model.add(Dense(200))\n",
    "model.add(Activation('relu'))\n",
    "model.add(Dense(10))\n",
    "model.add(Activation('softmax'))\n",
    "model.compile(loss='mse',optimizer=SGD(lr=0.05), metrics=['accuracy'])"
   ]
  },
  {
   "cell_type": "markdown",
   "metadata": {},
   "source": [
    "### 看看Model的summary"
   ]
  },
  {
   "cell_type": "code",
   "execution_count": 62,
   "metadata": {
    "ExecuteTime": {
     "end_time": "2019-05-07T13:00:31.704135Z",
     "start_time": "2019-05-07T13:00:31.672812Z"
    }
   },
   "outputs": [
    {
     "name": "stdout",
     "output_type": "stream",
     "text": [
      "_________________________________________________________________\n",
      "Layer (type)                 Output Shape              Param #   \n",
      "=================================================================\n",
      "conv2d_1 (Conv2D)            (None, 28, 28, 32)        320       \n",
      "_________________________________________________________________\n",
      "activation_1 (Activation)    (None, 28, 28, 32)        0         \n",
      "_________________________________________________________________\n",
      "max_pooling2d_1 (MaxPooling2 (None, 14, 14, 32)        0         \n",
      "_________________________________________________________________\n",
      "conv2d_2 (Conv2D)            (None, 14, 14, 64)        18496     \n",
      "_________________________________________________________________\n",
      "activation_2 (Activation)    (None, 14, 14, 64)        0         \n",
      "_________________________________________________________________\n",
      "max_pooling2d_2 (MaxPooling2 (None, 7, 7, 64)          0         \n",
      "_________________________________________________________________\n",
      "conv2d_3 (Conv2D)            (None, 7, 7, 128)         73856     \n",
      "_________________________________________________________________\n",
      "activation_3 (Activation)    (None, 7, 7, 128)         0         \n",
      "_________________________________________________________________\n",
      "max_pooling2d_3 (MaxPooling2 (None, 3, 3, 128)         0         \n",
      "_________________________________________________________________\n",
      "flatten_1 (Flatten)          (None, 1152)              0         \n",
      "_________________________________________________________________\n",
      "dense_1 (Dense)              (None, 200)               230600    \n",
      "_________________________________________________________________\n",
      "activation_4 (Activation)    (None, 200)               0         \n",
      "_________________________________________________________________\n",
      "dense_2 (Dense)              (None, 10)                2010      \n",
      "_________________________________________________________________\n",
      "activation_5 (Activation)    (None, 10)                0         \n",
      "=================================================================\n",
      "Total params: 325,282\n",
      "Trainable params: 325,282\n",
      "Non-trainable params: 0\n",
      "_________________________________________________________________\n"
     ]
    }
   ],
   "source": [
    "model.summary()"
   ]
  },
  {
   "cell_type": "markdown",
   "metadata": {},
   "source": [
    "### 開始實驗"
   ]
  },
  {
   "cell_type": "code",
   "execution_count": 63,
   "metadata": {
    "ExecuteTime": {
     "end_time": "2019-05-07T13:01:33.669840Z",
     "start_time": "2019-05-07T13:00:32.922813Z"
    }
   },
   "outputs": [
    {
     "name": "stdout",
     "output_type": "stream",
     "text": [
      "Epoch 1/20\n",
      "60000/60000 [==============================] - 3s 54us/step - loss: 0.0673 - acc: 0.6261: 4s - loss: 0.1586 - acc: 0. - ETA: 3s - loss: 0.1576 - a - ETA: 2s - loss: 0.1482 - acc: 0.2 - ETA: 1s - loss: 0.1354 - acc: - ETA: 1s - loss:\n",
      "Epoch 2/20\n",
      "60000/60000 [==============================] - 3s 51us/step - loss: 0.0057 - acc: 0.9626: 2s - loss: 0.0065 - acc: 0.957 - ETA: 2s - loss: 0.0065 - acc: 0.95 - ETA: 2s - loss: 0.0066 - acc: 0.9 - ETA: 1s - loss: 0.0067 - acc - ETA: 1s - loss: 0.0063 - acc: 0.958 - ETA: 1s - loss: 0.0063 - acc: 0. - ETA: 1s - loss: 0.0061 - acc: 0. - ETA: 0s - loss: 0.0060\n",
      "Epoch 3/20\n",
      "60000/60000 [==============================] - 3s 51us/step - loss: 0.0038 - acc: 0.9755: 1s - loss: 0.0041 - a - ETA: 1s - loss: 0.0039 - acc: 0.97 - ETA: 1s - loss: 0.\n",
      "Epoch 4/20\n",
      "60000/60000 [==============================] - 3s 51us/step - loss: 0.0030 - acc: 0.9811: 2s - loss: 0.0030 - acc: 0.9 - ETA: 2s - loss: 0.0030 - ETA: 1s - loss: 0.003 - ETA: 0s - loss: 0.0030 - acc: - ETA: 0s - loss: 0.0029 - acc: 0.98\n",
      "Epoch 5/20\n",
      "60000/60000 [==============================] - 3s 51us/step - loss: 0.0024 - acc: 0.9851: 2s - loss: 0.0023 - acc: 0 - ETA: 2s - loss: 0.0024 - acc - ETA: 1s - loss: 0.0024 - acc:  - ETA: 1s - loss: 0.0024 - acc: 0.984 - ETA: 1s - loss\n",
      "Epoch 6/20\n",
      "60000/60000 [==============================] - 3s 51us/step - loss: 0.0020 - acc: 0.9880: 2s - loss:  - ETA: 0s - loss: 0.0020 - acc:  - ETA: 0s - loss: 0.0020 - a\n",
      "Epoch 7/20\n",
      "60000/60000 [==============================] - 3s 51us/step - loss: 0.0017 - acc: 0.9897: 2s - loss: 0.0014 - a - ETA: 2s - loss: 0.0016 - acc:  - ETA: 1s - loss: 0.0016 - a - ETA: 1s - loss: 0.0016 - acc: 0.990 - ETA: 1s - loss: 0.001 - ETA: 0s - loss: 0.0017 - acc: 0.98\n",
      "Epoch 8/20\n",
      "60000/60000 [==============================] - 3s 51us/step - loss: 0.0014 - acc: 0.9915: 2s - loss: 0.0014 - acc: 0.99 - ETA: 2s - loss: 0.0014 -  - ETA: 1s - loss: 0.0 - ETA: 0s - loss: 0.0014 - acc\n",
      "Epoch 9/20\n",
      "60000/60000 [==============================] - 3s 50us/step - loss: 0.0013 - acc: 0.9924: 2s - loss: 0 - ETA: 1s - loss: 0\n",
      "Epoch 10/20\n",
      "60000/60000 [==============================] - 3s 49us/step - loss: 0.0011 - acc: 0.9936\n",
      "Epoch 11/20\n",
      "60000/60000 [==============================] - 3s 50us/step - loss: 0.0010 - acc: 0.9943 ETA: 2s - loss: 0.0011 - acc: 0.9 - ETA: 2s - loss: 9.1486e-04 - acc: 0.99 - ETA: 2s - loss: 9.1033e-04 - acc:  - ETA: 2s\n",
      "Epoch 12/20\n",
      "60000/60000 [==============================] - 3s 50us/step - loss: 9.0896e-04 - acc: 0.9949: 0s - loss: 8.8878e-04 - acc: 0.\n",
      "Epoch 13/20\n",
      "60000/60000 [==============================] - 3s 50us/step - loss: 8.2162e-04 - acc: 0.9953: 2s - loss: 6.4648e-04 - acc:  - ETA: 2s - loss: 8.0805e-04 - acc: 0.99 - ETA: 2\n",
      "Epoch 14/20\n",
      "60000/60000 [==============================] - 3s 51us/step - loss: 7.1948e-04 - acc: 0.9963: 2s - loss: 8.8134e-04 - - ETA: 1s - loss: 7.1633e-04 - acc: 0.996 - ETA: 1s - lo\n",
      "Epoch 15/20\n",
      "60000/60000 [==============================] - 3s 51us/step - loss: 6.7935e-04 - acc: 0.9962: 2s - loss: 6.5571e-04 - ETA: 1s - loss: 6.9587e- - ETA: 0s - loss: 6.8066e-04 - acc: 0.9 - ETA: 0s - loss: 6.8098e-04 - acc: 0.99\n",
      "Epoch 16/20\n",
      "60000/60000 [==============================] - 3s 51us/step - loss: 6.0849e-04 - acc: 0.9967: 1s - l - ETA: 0s - loss: 6.0730e-04 - acc: 0.996\n",
      "Epoch 17/20\n",
      "60000/60000 [==============================] - 3s 51us/step - loss: 5.5250e-04 - acc: 0.9971: 2s - loss: 7.90 - ETA: 1s - loss: 5.6412e - ETA: 0s - loss: 5.5607e-04 - acc: 0.99 - ETA: 0s - loss: 5.5485e-04 - acc: 0.997\n",
      "Epoch 18/20\n",
      "60000/60000 [==============================] - 3s 50us/step - loss: 5.1462e-04 - acc: 0.9972: 2s - los - ETA: 0s - loss: 4.9912e-04 - acc: 0.997 - ETA: 0s - loss: 4.9967e-04 - acc: 0\n",
      "Epoch 19/20\n",
      "60000/60000 [==============================] - 3s 50us/step - loss: 4.7838e-04 - acc: 0.9974: 1s - loss: 5.8218 - ETA: 0s - loss: 4.9359e-04 - a\n",
      "Epoch 20/20\n",
      "60000/60000 [==============================] - 3s 51us/step - loss: 4.3091e-04 - acc: 0.9978\n"
     ]
    }
   ],
   "source": [
    "my_model = model.fit(x_train, y_train, batch_size = 100, epochs = 20)"
   ]
  },
  {
   "cell_type": "code",
   "execution_count": 64,
   "metadata": {
    "ExecuteTime": {
     "end_time": "2019-05-07T13:01:34.232228Z",
     "start_time": "2019-05-07T13:01:33.700964Z"
    }
   },
   "outputs": [
    {
     "name": "stdout",
     "output_type": "stream",
     "text": [
      "10000/10000 [==============================] - 1s 52us/step\n"
     ]
    }
   ],
   "source": [
    "score = model.evaluate(x_test, y_test)"
   ]
  },
  {
   "cell_type": "code",
   "execution_count": 82,
   "metadata": {
    "ExecuteTime": {
     "end_time": "2019-05-09T12:43:55.172175Z",
     "start_time": "2019-05-09T12:43:55.156478Z"
    }
   },
   "outputs": [
    {
     "name": "stdout",
     "output_type": "stream",
     "text": [
      "資料的 LOSS :  0.0019015038360221236\n",
      "資料的 Acurr :  0.9875\n"
     ]
    }
   ],
   "source": [
    "print('資料的 LOSS : ', score[0])\n",
    "print('資料的 Acurr : ', score[1])"
   ]
  },
  {
   "cell_type": "markdown",
   "metadata": {},
   "source": [
    "###  畫出來看看準確率\n"
   ]
  },
  {
   "cell_type": "code",
   "execution_count": 73,
   "metadata": {
    "ExecuteTime": {
     "end_time": "2019-05-07T14:02:07.531585Z",
     "start_time": "2019-05-07T14:02:07.391018Z"
    }
   },
   "outputs": [
    {
     "data": {
      "text/plain": [
       "<function matplotlib.pyplot.show(*args, **kw)>"
      ]
     },
     "execution_count": 73,
     "metadata": {},
     "output_type": "execute_result"
    },
    {
     "data": {
      "image/png": "[encoded data removed]",
      "text/plain": [
       "<Figure size 504x504 with 1 Axes>"
      ]
     },
     "metadata": {
      "needs_background": "light"
     },
     "output_type": "display_data"
    }
   ],
   "source": [
    "plt.figure(figsize=(7,7))\n",
    "plt.plot(my_model.history['acc'], 'g')\n",
    "plt.title('Accuracy and Loss for my_model')\n",
    "plt.ylabel('Accuracy')\n",
    "plt.xlabel('Epoch')\n",
    "plt.plot(my_model.history['loss'], 'r')\n",
    "plt.grid()\n",
    "plt.legend([\"accuracy\" , \"Loss\"],loc = 0)\n",
    "plt.show"
   ]
  },
  {
   "cell_type": "markdown",
   "metadata": {},
   "source": [
    "### 測驗"
   ]
  },
  {
   "cell_type": "code",
   "execution_count": 76,
   "metadata": {
    "ExecuteTime": {
     "end_time": "2019-05-07T14:04:23.311192Z",
     "start_time": "2019-05-07T14:04:22.889340Z"
    }
   },
   "outputs": [],
   "source": [
    "predict = model.predict_classes(x_test)"
   ]
  },
  {
   "cell_type": "code",
   "execution_count": 94,
   "metadata": {
    "ExecuteTime": {
     "end_time": "2019-05-09T12:47:26.871096Z",
     "start_time": "2019-05-09T12:47:26.589869Z"
    }
   },
   "outputs": [
    {
     "data": {
      "image/png": "[encoded data removed]",
      "text/plain": [
       "<Figure size 432x288 with 8 Axes>"
      ]
     },
     "metadata": {
      "needs_background": "light"
     },
     "output_type": "display_data"
    }
   ],
   "source": [
    "#顯出任何8個抽出來的數字對不對\n",
    "pick = np.random.randint(1, 9999, 8)\n",
    "\n",
    "for i in range(8):\n",
    "    plt.subplot(1, 8, i+1)\n",
    "    plt.imshow(x_test[pick[i]].reshape(28, 28), cmap= 'Greens')\n",
    "    plt.title(predict[pick[i]])\n",
    "    plt.axis(\"off\")"
   ]
  },
  {
   "cell_type": "code",
   "execution_count": 78,
   "metadata": {
    "ExecuteTime": {
     "end_time": "2019-05-07T14:05:03.733155Z",
     "start_time": "2019-05-07T14:05:03.701841Z"
    }
   },
   "outputs": [],
   "source": [
    "#用互動的方式測驗看看\n",
    "from ipywidgets import interact_manual"
   ]
  },
  {
   "cell_type": "code",
   "execution_count": 90,
   "metadata": {
    "ExecuteTime": {
     "end_time": "2019-05-09T12:46:24.415525Z",
     "start_time": "2019-05-09T12:46:24.384239Z"
    }
   },
   "outputs": [],
   "source": [
    "def testMinist(編號):\n",
    "    plt.imshow(x_test[編號].reshape(28,28), cmap=\"GnBu\")\n",
    "    print(\"我的模型判斷成:\", predict[編號])"
   ]
  },
  {
   "cell_type": "code",
   "execution_count": 91,
   "metadata": {
    "ExecuteTime": {
     "end_time": "2019-05-09T12:46:30.571710Z",
     "start_time": "2019-05-09T12:46:30.102984Z"
    }
   },
   "outputs": [
    {
     "data": {
      "application/vnd.jupyter.widget-view+json": {
       "model_id": "e6960f67e7444cb2af7ac306a3d5e5f4",
       "version_major": 2,
       "version_minor": 0
      },
      "text/plain": [
       "interactive(children=(IntSlider(value=4999, description='編號', max=9999), Button(description='Run Interact', st…"
      ]
     },
     "metadata": {},
     "output_type": "display_data"
    },
    {
     "data": {
      "text/plain": [
       "<function __main__.testMinist(編號)>"
      ]
     },
     "execution_count": 91,
     "metadata": {},
     "output_type": "execute_result"
    }
   ],
   "source": [
    "predict= model.predict_classes(x_test)\n",
    "\n",
    "interact_manual(testMinist,編號=(0,9999))"
   ]
  },
  {
   "cell_type": "code",
   "execution_count": null,
   "metadata": {},
   "outputs": [],
   "source": []
  }
 ],
 "metadata": {
  "kernelspec": {
   "display_name": "Python [conda env:brent]",
   "language": "python",
   "name": "conda-env-brent-py"
  },
  "language_info": {
   "codemirror_mode": {
    "name": "ipython",
    "version": 3
   },
   "file_extension": ".py",
   "mimetype": "text/x-python",
   "name": "python",
   "nbconvert_exporter": "python",
   "pygments_lexer": "ipython3",
   "version": "3.6.7"
  },
  "toc": {
   "base_numbering": 1,
   "nav_menu": {},
   "number_sections": true,
   "sideBar": true,
   "skip_h1_title": false,
   "title_cell": "Table of Contents",
   "title_sidebar": "Contents",
   "toc_cell": false,
   "toc_position": {},
   "toc_section_display": true,
   "toc_window_display": false
  },
  "varInspector": {
   "cols": {
    "lenName": 16,
    "lenType": 16,
    "lenVar": 40
   },
   "kernels_config": {
    "python": {
     "delete_cmd_postfix": "",
     "delete_cmd_prefix": "del ",
     "library": "var_list.py",
     "varRefreshCmd": "print(var_dic_list())"
    },
    "r": {
     "delete_cmd_postfix": ") ",
     "delete_cmd_prefix": "rm(",
     "library": "var_list.r",
     "varRefreshCmd": "cat(var_dic_list()) "
    }
   },
   "types_to_exclude": [
    "module",
    "function",
    "builtin_function_or_method",
    "instance",
    "_Feature"
   ],
   "window_display": false
  }
 },
 "nbformat": 4,
 "nbformat_minor": 2
}
