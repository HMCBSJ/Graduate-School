{
 "cells": [
  {
   "cell_type": "code",
   "execution_count": 1,
   "metadata": {
    "ExecuteTime": {
     "end_time": "2019-04-11T18:10:00.343159Z",
     "start_time": "2019-04-11T18:09:54.843159Z"
    }
   },
   "outputs": [],
   "source": [
    "%matplotlib inline\n",
    "\n",
    "import matplotlib.pyplot as plt\n",
    "import pandas as pd\n",
    "import numpy as np\n",
    "from sklearn.linear_model import LinearRegression"
   ]
  },
  {
   "cell_type": "markdown",
   "metadata": {},
   "source": [
    "# 要分析 用有關犯罪率的資料來能不能推測未來的犯罪率"
   ]
  },
  {
   "cell_type": "code",
   "execution_count": 237,
   "metadata": {
    "ExecuteTime": {
     "end_time": "2019-04-11T21:52:10.131292Z",
     "start_time": "2019-04-11T21:52:10.068680Z"
    }
   },
   "outputs": [
    {
     "data": {
      "text/html": [
       "<div>\n",
       "<style scoped>\n",
       "    .dataframe tbody tr th:only-of-type {\n",
       "        vertical-align: middle;\n",
       "    }\n",
       "\n",
       "    .dataframe tbody tr th {\n",
       "        vertical-align: top;\n",
       "    }\n",
       "\n",
       "    .dataframe thead th {\n",
       "        text-align: right;\n",
       "    }\n",
       "</style>\n",
       "<table border=\"1\" class=\"dataframe\">\n",
       "  <thead>\n",
       "    <tr style=\"text-align: right;\">\n",
       "      <th></th>\n",
       "      <th>刑度</th>\n",
       "      <th>性別</th>\n",
       "      <th>日期</th>\n",
       "      <th>統計值</th>\n",
       "    </tr>\n",
       "  </thead>\n",
       "  <tbody>\n",
       "    <tr>\n",
       "      <th>492</th>\n",
       "      <td>6月以下</td>\n",
       "      <td>男性</td>\n",
       "      <td>10201</td>\n",
       "      <td>137</td>\n",
       "    </tr>\n",
       "    <tr>\n",
       "      <th>493</th>\n",
       "      <td>6月以下</td>\n",
       "      <td>女性</td>\n",
       "      <td>10201</td>\n",
       "      <td>54</td>\n",
       "    </tr>\n",
       "    <tr>\n",
       "      <th>494</th>\n",
       "      <td>6月以下</td>\n",
       "      <td>法人</td>\n",
       "      <td>10201</td>\n",
       "      <td>0</td>\n",
       "    </tr>\n",
       "    <tr>\n",
       "      <th>546</th>\n",
       "      <td>6月以下</td>\n",
       "      <td>男性</td>\n",
       "      <td>10202</td>\n",
       "      <td>84</td>\n",
       "    </tr>\n",
       "    <tr>\n",
       "      <th>547</th>\n",
       "      <td>6月以下</td>\n",
       "      <td>女性</td>\n",
       "      <td>10202</td>\n",
       "      <td>43</td>\n",
       "    </tr>\n",
       "  </tbody>\n",
       "</table>\n",
       "</div>"
      ],
      "text/plain": [
       "       刑度  性別     日期  統計值\n",
       "492  6月以下  男性  10201  137\n",
       "493  6月以下  女性  10201   54\n",
       "494  6月以下  法人  10201    0\n",
       "546  6月以下  男性  10202   84\n",
       "547  6月以下  女性  10202   43"
      ]
     },
     "execution_count": 237,
     "metadata": {},
     "output_type": "execute_result"
    }
   ],
   "source": [
    "#使用一個政府的網站裏面的實際資料\n",
    "df=pd.read_csv('http://ipgod.nchc.org.tw/dataset/6b0bb933-b90e-42cd-8f12-31c9120e9bf8/resource/3a33e7f5-7366-45ac-813d-b3ca757b2333/download/a11000003f-000126-001.csv')\n",
    "df=df.iloc[486:] #102年前後資料的算法不一樣 所以102開始做分析 \n",
    "df = df[df['刑度']=='6月以下'] #分析中 主要判斷的是 6月一下的做來的資料。因爲從6月一下可以得到的資料最多， 所以比較容易比較每年的凶案件\n",
    "df.head()"
   ]
  },
  {
   "cell_type": "code",
   "execution_count": 238,
   "metadata": {
    "ExecuteTime": {
     "end_time": "2019-04-11T21:52:10.678067Z",
     "start_time": "2019-04-11T21:52:10.662470Z"
    }
   },
   "outputs": [
    {
     "data": {
      "text/html": [
       "<div>\n",
       "<style scoped>\n",
       "    .dataframe tbody tr th:only-of-type {\n",
       "        vertical-align: middle;\n",
       "    }\n",
       "\n",
       "    .dataframe tbody tr th {\n",
       "        vertical-align: top;\n",
       "    }\n",
       "\n",
       "    .dataframe thead th {\n",
       "        text-align: right;\n",
       "    }\n",
       "</style>\n",
       "<table border=\"1\" class=\"dataframe\">\n",
       "  <thead>\n",
       "    <tr style=\"text-align: right;\">\n",
       "      <th></th>\n",
       "      <th>刑度</th>\n",
       "      <th>日期</th>\n",
       "      <th>統計值</th>\n",
       "    </tr>\n",
       "  </thead>\n",
       "  <tbody>\n",
       "    <tr>\n",
       "      <th>492</th>\n",
       "      <td>6月以下</td>\n",
       "      <td>10201</td>\n",
       "      <td>137</td>\n",
       "    </tr>\n",
       "    <tr>\n",
       "      <th>493</th>\n",
       "      <td>6月以下</td>\n",
       "      <td>10201</td>\n",
       "      <td>54</td>\n",
       "    </tr>\n",
       "    <tr>\n",
       "      <th>494</th>\n",
       "      <td>6月以下</td>\n",
       "      <td>10201</td>\n",
       "      <td>0</td>\n",
       "    </tr>\n",
       "    <tr>\n",
       "      <th>546</th>\n",
       "      <td>6月以下</td>\n",
       "      <td>10202</td>\n",
       "      <td>84</td>\n",
       "    </tr>\n",
       "    <tr>\n",
       "      <th>547</th>\n",
       "      <td>6月以下</td>\n",
       "      <td>10202</td>\n",
       "      <td>43</td>\n",
       "    </tr>\n",
       "  </tbody>\n",
       "</table>\n",
       "</div>"
      ],
      "text/plain": [
       "       刑度     日期  統計值\n",
       "492  6月以下  10201  137\n",
       "493  6月以下  10201   54\n",
       "494  6月以下  10201    0\n",
       "546  6月以下  10202   84\n",
       "547  6月以下  10202   43"
      ]
     },
     "execution_count": 238,
     "metadata": {},
     "output_type": "execute_result"
    }
   ],
   "source": [
    "#這次的分析不分性別 所以 性別的列拿掉\n",
    "df = df[['刑度','日期','統計值']] \n",
    "df.head()"
   ]
  },
  {
   "cell_type": "code",
   "execution_count": 239,
   "metadata": {
    "ExecuteTime": {
     "end_time": "2019-04-11T21:52:11.334293Z",
     "start_time": "2019-04-11T21:52:11.303095Z"
    }
   },
   "outputs": [],
   "source": [
    "#年份跟月來計算 \n",
    "df = df['統計值'].groupby(df['日期'])\n",
    "df = df.sum()"
   ]
  },
  {
   "cell_type": "code",
   "execution_count": 240,
   "metadata": {
    "ExecuteTime": {
     "end_time": "2019-04-11T21:52:12.068664Z",
     "start_time": "2019-04-11T21:52:12.053103Z"
    }
   },
   "outputs": [
    {
     "data": {
      "text/plain": [
       "日期\n",
       "103      1935\n",
       "104      1822\n",
       "105      1497\n",
       "10201     191\n",
       "10202     127\n",
       "Name: 統計值, dtype: int64"
      ]
     },
     "execution_count": 240,
     "metadata": {},
     "output_type": "execute_result"
    }
   ],
   "source": [
    "df.head()"
   ]
  },
  {
   "cell_type": "code",
   "execution_count": 241,
   "metadata": {
    "ExecuteTime": {
     "end_time": "2019-04-11T21:52:12.787538Z",
     "start_time": "2019-04-11T21:52:12.771822Z"
    }
   },
   "outputs": [
    {
     "data": {
      "text/html": [
       "<div>\n",
       "<style scoped>\n",
       "    .dataframe tbody tr th:only-of-type {\n",
       "        vertical-align: middle;\n",
       "    }\n",
       "\n",
       "    .dataframe tbody tr th {\n",
       "        vertical-align: top;\n",
       "    }\n",
       "\n",
       "    .dataframe thead th {\n",
       "        text-align: right;\n",
       "    }\n",
       "</style>\n",
       "<table border=\"1\" class=\"dataframe\">\n",
       "  <thead>\n",
       "    <tr style=\"text-align: right;\">\n",
       "      <th></th>\n",
       "      <th>統計值</th>\n",
       "    </tr>\n",
       "    <tr>\n",
       "      <th>日期</th>\n",
       "      <th></th>\n",
       "    </tr>\n",
       "  </thead>\n",
       "  <tbody>\n",
       "    <tr>\n",
       "      <th>103</th>\n",
       "      <td>1935</td>\n",
       "    </tr>\n",
       "    <tr>\n",
       "      <th>104</th>\n",
       "      <td>1822</td>\n",
       "    </tr>\n",
       "    <tr>\n",
       "      <th>105</th>\n",
       "      <td>1497</td>\n",
       "    </tr>\n",
       "    <tr>\n",
       "      <th>10201</th>\n",
       "      <td>191</td>\n",
       "    </tr>\n",
       "    <tr>\n",
       "      <th>10202</th>\n",
       "      <td>127</td>\n",
       "    </tr>\n",
       "  </tbody>\n",
       "</table>\n",
       "</div>"
      ],
      "text/plain": [
       "        統計值\n",
       "日期         \n",
       "103    1935\n",
       "104    1822\n",
       "105    1497\n",
       "10201   191\n",
       "10202   127"
      ]
     },
     "execution_count": 241,
     "metadata": {},
     "output_type": "execute_result"
    }
   ],
   "source": [
    "#爲了刪除上只有年份的最上面的三行 把資料再次改成DataFrame\n",
    "df = pd.DataFrame(df)\n",
    "df.head()"
   ]
  },
  {
   "cell_type": "code",
   "execution_count": 242,
   "metadata": {
    "ExecuteTime": {
     "end_time": "2019-04-11T21:52:14.990666Z",
     "start_time": "2019-04-11T21:52:14.959352Z"
    }
   },
   "outputs": [
    {
     "data": {
      "text/html": [
       "<div>\n",
       "<style scoped>\n",
       "    .dataframe tbody tr th:only-of-type {\n",
       "        vertical-align: middle;\n",
       "    }\n",
       "\n",
       "    .dataframe tbody tr th {\n",
       "        vertical-align: top;\n",
       "    }\n",
       "\n",
       "    .dataframe thead th {\n",
       "        text-align: right;\n",
       "    }\n",
       "</style>\n",
       "<table border=\"1\" class=\"dataframe\">\n",
       "  <thead>\n",
       "    <tr style=\"text-align: right;\">\n",
       "      <th></th>\n",
       "      <th>日期</th>\n",
       "      <th>統計值</th>\n",
       "    </tr>\n",
       "  </thead>\n",
       "  <tbody>\n",
       "    <tr>\n",
       "      <th>0</th>\n",
       "      <td>10201</td>\n",
       "      <td>191</td>\n",
       "    </tr>\n",
       "    <tr>\n",
       "      <th>1</th>\n",
       "      <td>10202</td>\n",
       "      <td>127</td>\n",
       "    </tr>\n",
       "    <tr>\n",
       "      <th>2</th>\n",
       "      <td>10203</td>\n",
       "      <td>170</td>\n",
       "    </tr>\n",
       "    <tr>\n",
       "      <th>3</th>\n",
       "      <td>10204</td>\n",
       "      <td>153</td>\n",
       "    </tr>\n",
       "    <tr>\n",
       "      <th>4</th>\n",
       "      <td>10205</td>\n",
       "      <td>212</td>\n",
       "    </tr>\n",
       "  </tbody>\n",
       "</table>\n",
       "</div>"
      ],
      "text/plain": [
       "      日期  統計值\n",
       "0  10201  191\n",
       "1  10202  127\n",
       "2  10203  170\n",
       "3  10204  153\n",
       "4  10205  212"
      ]
     },
     "execution_count": 242,
     "metadata": {},
     "output_type": "execute_result"
    }
   ],
   "source": [
    "#再次刪掉上面103~105的總數來讓資料有一致性\n",
    "df = df.iloc[3:]\n",
    "#把移到Index的日期再次移到列。\n",
    "df.reset_index(level=['日期'], inplace = True)\n",
    "df.head()"
   ]
  },
  {
   "cell_type": "code",
   "execution_count": 278,
   "metadata": {
    "ExecuteTime": {
     "end_time": "2019-04-11T22:23:40.927766Z",
     "start_time": "2019-04-11T22:23:40.459041Z"
    }
   },
   "outputs": [
    {
     "data": {
      "image/png": "[encoded data removed]",
      "text/plain": [
       "<Figure size 576x288 with 1 Axes>"
      ]
     },
     "metadata": {
      "needs_background": "light"
     },
     "output_type": "display_data"
    }
   ],
   "source": [
    "#先用Bar的圖形來看趨勢\n",
    "dfp = df.plot.bar(x='日期', y='統計值', label = 'Criminals', color = 'b',figsize=(8,4))\n",
    "dfp.set( xlabel= 'Year-Month', ylabel = 'Number', title = 'Criminal Rate sentenced less than 6 month')\n",
    "plt.tight_layout()\n",
    "plt.grid()\n",
    "plt.legend()\n",
    "plt.tight_layout()\n",
    "plt.show()"
   ]
  },
  {
   "cell_type": "code",
   "execution_count": 244,
   "metadata": {
    "ExecuteTime": {
     "end_time": "2019-04-11T21:52:28.991515Z",
     "start_time": "2019-04-11T21:52:28.960212Z"
    }
   },
   "outputs": [
    {
     "data": {
      "text/plain": [
       "(49, 2)"
      ]
     },
     "execution_count": 244,
     "metadata": {},
     "output_type": "execute_result"
    }
   ],
   "source": [
    "#爲了scatter， 看看資料的大少\n",
    "df.shape"
   ]
  },
  {
   "cell_type": "code",
   "execution_count": 245,
   "metadata": {
    "ExecuteTime": {
     "end_time": "2019-04-11T21:52:46.460265Z",
     "start_time": "2019-04-11T21:52:46.428962Z"
    }
   },
   "outputs": [],
   "source": [
    "# 回歸之前 簡單的 前處理\n",
    "year = df.iloc[:,0]                                          \n",
    "number = df.iloc[:,1] \n",
    "x=np.array(year)\n",
    "y=np.array(number)\n",
    "X = x.reshape(len(x), 1)\n",
    "Y = y.reshape(len(y), 1)"
   ]
  },
  {
   "cell_type": "code",
   "execution_count": 273,
   "metadata": {
    "ExecuteTime": {
     "end_time": "2019-04-11T22:13:40.509063Z",
     "start_time": "2019-04-11T22:13:40.493500Z"
    }
   },
   "outputs": [],
   "source": [
    "# 資料切割的部分\n",
    "from sklearn.model_selection import train_test_split\n",
    "X = x.reshape(len(x), 1)\n",
    "# 測試資料 【train :70 , test :30】\n",
    "x_train, x_test, y_train, y_test = train_test_split(X, y, test_size=0.3, random_state=300)"
   ]
  },
  {
   "cell_type": "code",
   "execution_count": 277,
   "metadata": {
    "ExecuteTime": {
     "end_time": "2019-04-11T22:23:28.787171Z",
     "start_time": "2019-04-11T22:23:28.662159Z"
    }
   },
   "outputs": [
    {
     "data": {
      "image/png": "[encoded data removed]",
      "text/plain": [
       "<Figure size 432x288 with 1 Axes>"
      ]
     },
     "metadata": {
      "needs_background": "light"
     },
     "output_type": "display_data"
    }
   ],
   "source": [
    "#先看看test跟train data長的如何\n",
    "plt.scatter(x_train, y_train, label = 'Train Data')\n",
    "plt.scatter(x_test, y_test, label = 'Test Data')\n",
    "plt.xlabel('Year-Month')\n",
    "plt.ylabel('Number')\n",
    "plt.title('Criminal Rate sentenced less than 6 month')\n",
    "plt.grid()\n",
    "plt.legend()\n",
    "plt.tight_layout()\n",
    "plt.show()"
   ]
  },
  {
   "cell_type": "markdown",
   "metadata": {},
   "source": [
    "# 完成回歸的分析"
   ]
  },
  {
   "cell_type": "code",
   "execution_count": 275,
   "metadata": {
    "ExecuteTime": {
     "end_time": "2019-04-11T22:13:46.384064Z",
     "start_time": "2019-04-11T22:13:46.368495Z"
    }
   },
   "outputs": [],
   "source": [
    "#製作一個回歸的機器\n",
    "regr = LinearRegression()\n",
    "# 訓練\n",
    "regr.fit(x_train, y_train)\n",
    " # 預測\n",
    "Y_pred = regr.predict(x_test)"
   ]
  },
  {
   "cell_type": "code",
   "execution_count": 279,
   "metadata": {
    "ExecuteTime": {
     "end_time": "2019-04-11T22:23:56.974670Z",
     "start_time": "2019-04-11T22:23:56.818444Z"
    }
   },
   "outputs": [
    {
     "data": {
      "image/png": "[encoded data removed]",
      "text/plain": [
       "<Figure size 432x288 with 1 Axes>"
      ]
     },
     "metadata": {
      "needs_background": "light"
     },
     "output_type": "display_data"
    }
   ],
   "source": [
    "#圖畫出來\n",
    "plt.scatter(x_test, y_test)\n",
    "plt.plot(x_test, Y_pred, 'r')\n",
    "plt.scatter(x_train, y_train, label = 'Train Data')\n",
    "plt.scatter(x_test, y_test, label = 'Test Data')\n",
    "plt.xlabel('Year-Month')\n",
    "plt.ylabel('Number')\n",
    "plt.title('Criminal Rate sentenced less than 6 month')\n",
    "plt.grid()\n",
    "plt.legend()\n",
    "plt.tight_layout()\n",
    "plt.show()"
   ]
  },
  {
   "cell_type": "code",
   "execution_count": 280,
   "metadata": {
    "ExecuteTime": {
     "end_time": "2019-04-11T22:28:18.124931Z",
     "start_time": "2019-04-11T22:28:18.093608Z"
    }
   },
   "outputs": [
    {
     "name": "stdout",
     "output_type": "stream",
     "text": [
      "Score= 0.41704484409248976\n",
      "Coefficient= [-0.11210476]\n"
     ]
    }
   ],
   "source": [
    "#從上面的圖可以知道， 臺灣的犯罪率沒有每年增加 反而看到越來越減少的趨勢！是一個很安全的國家\n",
    "#預測準確率跟 coefficient\n",
    "print('Score=', regr.score(x_test,y_test))  \n",
    "print('Coefficient=', regr.coef_)  "
   ]
  },
  {
   "cell_type": "code",
   "execution_count": null,
   "metadata": {},
   "outputs": [],
   "source": []
  }
 ],
 "metadata": {
  "kernelspec": {
   "display_name": "Python [conda env:brent]",
   "language": "python",
   "name": "conda-env-brent-py"
  },
  "language_info": {
   "codemirror_mode": {
    "name": "ipython",
    "version": 3
   },
   "file_extension": ".py",
   "mimetype": "text/x-python",
   "name": "python",
   "nbconvert_exporter": "python",
   "pygments_lexer": "ipython3",
   "version": "3.6.7"
  },
  "toc": {
   "base_numbering": 1,
   "nav_menu": {},
   "number_sections": true,
   "sideBar": true,
   "skip_h1_title": false,
   "title_cell": "Table of Contents",
   "title_sidebar": "Contents",
   "toc_cell": false,
   "toc_position": {},
   "toc_section_display": true,
   "toc_window_display": false
  },
  "varInspector": {
   "cols": {
    "lenName": 16,
    "lenType": 16,
    "lenVar": 40
   },
   "kernels_config": {
    "python": {
     "delete_cmd_postfix": "",
     "delete_cmd_prefix": "del ",
     "library": "var_list.py",
     "varRefreshCmd": "print(var_dic_list())"
    },
    "r": {
     "delete_cmd_postfix": ") ",
     "delete_cmd_prefix": "rm(",
     "library": "var_list.r",
     "varRefreshCmd": "cat(var_dic_list()) "
    }
   },
   "types_to_exclude": [
    "module",
    "function",
    "builtin_function_or_method",
    "instance",
    "_Feature"
   ],
   "window_display": false
  }
 },
 "nbformat": 4,
 "nbformat_minor": 2
}
