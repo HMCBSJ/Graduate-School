{
 "cells": [
  {
   "cell_type": "code",
   "execution_count": 97,
   "metadata": {
    "ExecuteTime": {
     "end_time": "2019-05-13T05:46:21.454454Z",
     "start_time": "2019-05-13T05:46:21.438927Z"
    }
   },
   "outputs": [],
   "source": [
    "%matplotlib inline\n",
    "import numpy as np\n",
    "import matplotlib.pyplot as plt\n",
    "import csv\n",
    "import pandas as pd\n",
    "from sklearn import metrics"
   ]
  },
  {
   "cell_type": "code",
   "execution_count": 98,
   "metadata": {
    "ExecuteTime": {
     "end_time": "2019-05-13T05:46:25.845101Z",
     "start_time": "2019-05-13T05:46:22.813828Z"
    }
   },
   "outputs": [],
   "source": [
    "train_clicks = pd.read_csv('train_clicks.csv')\n",
    "train_plans = pd.read_csv('train_plans.csv')\n",
    "train_queries = pd.read_csv('train_queries.csv')\n",
    "profiles = pd.read_csv('profiles.csv')"
   ]
  },
  {
   "cell_type": "code",
   "execution_count": 99,
   "metadata": {
    "ExecuteTime": {
     "end_time": "2019-05-13T05:46:27.548204Z",
     "start_time": "2019-05-13T05:46:27.220078Z"
    }
   },
   "outputs": [],
   "source": [
    "CP = pd.merge(train_clicks,train_plans, on='sid')"
   ]
  },
  {
   "cell_type": "code",
   "execution_count": 100,
   "metadata": {
    "ExecuteTime": {
     "end_time": "2019-05-13T05:46:29.204454Z",
     "start_time": "2019-05-13T05:46:28.829452Z"
    }
   },
   "outputs": [],
   "source": [
    "CPQ = pd.merge(CP,train_queries, on='sid')"
   ]
  },
  {
   "cell_type": "code",
   "execution_count": 101,
   "metadata": {
    "ExecuteTime": {
     "end_time": "2019-05-13T05:46:30.516953Z",
     "start_time": "2019-05-13T05:46:30.501328Z"
    }
   },
   "outputs": [],
   "source": [
    "# #get label\n",
    "# label = CPQ['click_mode']"
   ]
  },
  {
   "cell_type": "code",
   "execution_count": 102,
   "metadata": {
    "ExecuteTime": {
     "end_time": "2019-05-13T05:46:31.891955Z",
     "start_time": "2019-05-13T05:46:31.876328Z"
    }
   },
   "outputs": [],
   "source": [
    "# #label을 합성한 자료에서 없애기\n",
    "# CPQ = CPQ.drop(['click_mode'], axis=1)"
   ]
  },
  {
   "cell_type": "code",
   "execution_count": 103,
   "metadata": {
    "ExecuteTime": {
     "end_time": "2019-05-13T05:46:35.954456Z",
     "start_time": "2019-05-13T05:46:33.235702Z"
    }
   },
   "outputs": [],
   "source": [
    "#研究一下朋友寫的基本的前處理方式qq 什麽時候會好啊 我的技術。。\n",
    "halfo = CPQ['o'].str.split(',',2,True)\n",
    "halfd = CPQ['d'].str.split(',',2,True)\n",
    "CPQ = CPQ.drop(['o','d'], axis=1)\n",
    "CPQ = pd.concat([CPQ, halfo], axis = 1)\n",
    "CPQ.rename(columns={ CPQ.columns[-1]: \"o2\" }, inplace=True)\n",
    "CPQ.rename(columns={ CPQ.columns[-2]: \"o1\" }, inplace=True)\n",
    "CPQ = pd.concat([CPQ, halfd], axis = 1)\n",
    "CPQ.rename(columns={ CPQ.columns[-1]: \"d2\" }, inplace=True)\n",
    "CPQ.rename(columns={ CPQ.columns[-2]: \"d1\" }, inplace=True)"
   ]
  },
  {
   "cell_type": "code",
   "execution_count": 104,
   "metadata": {
    "ExecuteTime": {
     "end_time": "2019-05-13T05:46:37.298205Z",
     "start_time": "2019-05-13T05:46:37.282579Z"
    }
   },
   "outputs": [
    {
     "data": {
      "text/html": [
       "<div>\n",
       "<style scoped>\n",
       "    .dataframe tbody tr th:only-of-type {\n",
       "        vertical-align: middle;\n",
       "    }\n",
       "\n",
       "    .dataframe tbody tr th {\n",
       "        vertical-align: top;\n",
       "    }\n",
       "\n",
       "    .dataframe thead th {\n",
       "        text-align: right;\n",
       "    }\n",
       "</style>\n",
       "<table border=\"1\" class=\"dataframe\">\n",
       "  <thead>\n",
       "    <tr style=\"text-align: right;\">\n",
       "      <th></th>\n",
       "      <th>sid</th>\n",
       "      <th>click_time</th>\n",
       "      <th>click_mode</th>\n",
       "      <th>plan_time</th>\n",
       "      <th>plans</th>\n",
       "      <th>pid</th>\n",
       "      <th>req_time</th>\n",
       "      <th>o1</th>\n",
       "      <th>o2</th>\n",
       "      <th>d1</th>\n",
       "      <th>d2</th>\n",
       "    </tr>\n",
       "  </thead>\n",
       "  <tbody>\n",
       "    <tr>\n",
       "      <th>0</th>\n",
       "      <td>2848914</td>\n",
       "      <td>2018-11-17 18:42:17</td>\n",
       "      <td>1</td>\n",
       "      <td>2018-11-17 12:56:15</td>\n",
       "      <td>[{\"distance\": 53156, \"price\": \"\", \"eta\": 6456,...</td>\n",
       "      <td>101804.0</td>\n",
       "      <td>2018-11-17 12:56:15</td>\n",
       "      <td>116.36</td>\n",
       "      <td>40.07</td>\n",
       "      <td>116.00</td>\n",
       "      <td>40.35</td>\n",
       "    </tr>\n",
       "    <tr>\n",
       "      <th>1</th>\n",
       "      <td>2629085</td>\n",
       "      <td>2018-10-12 16:28:13</td>\n",
       "      <td>3</td>\n",
       "      <td>2018-10-12 16:27:55</td>\n",
       "      <td>[{\"distance\": 13207, \"price\": 400, \"eta\": 2790...</td>\n",
       "      <td>203797.0</td>\n",
       "      <td>2018-10-12 16:27:55</td>\n",
       "      <td>116.35</td>\n",
       "      <td>40.08</td>\n",
       "      <td>116.33</td>\n",
       "      <td>40.03</td>\n",
       "    </tr>\n",
       "  </tbody>\n",
       "</table>\n",
       "</div>"
      ],
      "text/plain": [
       "       sid           click_time  click_mode            plan_time  \\\n",
       "0  2848914  2018-11-17 18:42:17           1  2018-11-17 12:56:15   \n",
       "1  2629085  2018-10-12 16:28:13           3  2018-10-12 16:27:55   \n",
       "\n",
       "                                               plans       pid  \\\n",
       "0  [{\"distance\": 53156, \"price\": \"\", \"eta\": 6456,...  101804.0   \n",
       "1  [{\"distance\": 13207, \"price\": 400, \"eta\": 2790...  203797.0   \n",
       "\n",
       "              req_time      o1     o2      d1     d2  \n",
       "0  2018-11-17 12:56:15  116.36  40.07  116.00  40.35  \n",
       "1  2018-10-12 16:27:55  116.35  40.08  116.33  40.03  "
      ]
     },
     "execution_count": 104,
     "metadata": {},
     "output_type": "execute_result"
    }
   ],
   "source": [
    "CPQ.head(2)"
   ]
  },
  {
   "cell_type": "code",
   "execution_count": 105,
   "metadata": {
    "ExecuteTime": {
     "end_time": "2019-05-13T05:46:38.704454Z",
     "start_time": "2019-05-13T05:46:38.673204Z"
    }
   },
   "outputs": [
    {
     "data": {
      "text/html": [
       "<div>\n",
       "<style scoped>\n",
       "    .dataframe tbody tr th:only-of-type {\n",
       "        vertical-align: middle;\n",
       "    }\n",
       "\n",
       "    .dataframe tbody tr th {\n",
       "        vertical-align: top;\n",
       "    }\n",
       "\n",
       "    .dataframe thead th {\n",
       "        text-align: right;\n",
       "    }\n",
       "</style>\n",
       "<table border=\"1\" class=\"dataframe\">\n",
       "  <thead>\n",
       "    <tr style=\"text-align: right;\">\n",
       "      <th></th>\n",
       "      <th>o1</th>\n",
       "      <th>o2</th>\n",
       "      <th>d1</th>\n",
       "      <th>d2</th>\n",
       "    </tr>\n",
       "  </thead>\n",
       "  <tbody>\n",
       "    <tr>\n",
       "      <th>0</th>\n",
       "      <td>116.36</td>\n",
       "      <td>40.07</td>\n",
       "      <td>116.00</td>\n",
       "      <td>40.35</td>\n",
       "    </tr>\n",
       "    <tr>\n",
       "      <th>1</th>\n",
       "      <td>116.35</td>\n",
       "      <td>40.08</td>\n",
       "      <td>116.33</td>\n",
       "      <td>40.03</td>\n",
       "    </tr>\n",
       "  </tbody>\n",
       "</table>\n",
       "</div>"
      ],
      "text/plain": [
       "       o1     o2      d1     d2\n",
       "0  116.36  40.07  116.00  40.35\n",
       "1  116.35  40.08  116.33  40.03"
      ]
     },
     "execution_count": 105,
     "metadata": {},
     "output_type": "execute_result"
    }
   ],
   "source": [
    "#get od\n",
    "CPQ_od = CPQ[['o1','o2','d1','d2']]\n",
    "CPQ_od.head(2)"
   ]
  },
  {
   "cell_type": "code",
   "execution_count": 106,
   "metadata": {
    "ExecuteTime": {
     "end_time": "2019-05-13T05:46:40.110737Z",
     "start_time": "2019-05-13T05:46:40.095103Z"
    }
   },
   "outputs": [],
   "source": [
    "o1 = CPQ_od['o1'].values.reshape(-1, 1)\n",
    "o2 = CPQ_od['o2'].values.reshape(-1, 1)\n",
    "d1 = CPQ_od['d1'].values.reshape(-1, 1)\n",
    "d2 = CPQ_od['d2'].values.reshape(-1, 1)"
   ]
  },
  {
   "cell_type": "code",
   "execution_count": 107,
   "metadata": {
    "ExecuteTime": {
     "end_time": "2019-05-13T05:46:42.204452Z",
     "start_time": "2019-05-13T05:46:41.641953Z"
    }
   },
   "outputs": [
    {
     "name": "stderr",
     "output_type": "stream",
     "text": [
      "C:\\Users\\user\\Anaconda3\\envs\\brent\\lib\\site-packages\\sklearn\\utils\\validation.py:595: DataConversionWarning: Data with input dtype object was converted to float64 by StandardScaler.\n",
      "  warnings.warn(msg, DataConversionWarning)\n",
      "C:\\Users\\user\\Anaconda3\\envs\\brent\\lib\\site-packages\\sklearn\\utils\\validation.py:595: DataConversionWarning: Data with input dtype object was converted to float64 by StandardScaler.\n",
      "  warnings.warn(msg, DataConversionWarning)\n",
      "C:\\Users\\user\\Anaconda3\\envs\\brent\\lib\\site-packages\\sklearn\\utils\\validation.py:595: DataConversionWarning: Data with input dtype object was converted to float64 by StandardScaler.\n",
      "  warnings.warn(msg, DataConversionWarning)\n",
      "C:\\Users\\user\\Anaconda3\\envs\\brent\\lib\\site-packages\\sklearn\\utils\\validation.py:595: DataConversionWarning: Data with input dtype object was converted to float64 by StandardScaler.\n",
      "  warnings.warn(msg, DataConversionWarning)\n",
      "C:\\Users\\user\\Anaconda3\\envs\\brent\\lib\\site-packages\\sklearn\\utils\\validation.py:595: DataConversionWarning: Data with input dtype object was converted to float64 by StandardScaler.\n",
      "  warnings.warn(msg, DataConversionWarning)\n",
      "C:\\Users\\user\\Anaconda3\\envs\\brent\\lib\\site-packages\\sklearn\\utils\\validation.py:595: DataConversionWarning: Data with input dtype object was converted to float64 by StandardScaler.\n",
      "  warnings.warn(msg, DataConversionWarning)\n",
      "C:\\Users\\user\\Anaconda3\\envs\\brent\\lib\\site-packages\\sklearn\\utils\\validation.py:595: DataConversionWarning: Data with input dtype object was converted to float64 by StandardScaler.\n",
      "  warnings.warn(msg, DataConversionWarning)\n",
      "C:\\Users\\user\\Anaconda3\\envs\\brent\\lib\\site-packages\\sklearn\\utils\\validation.py:595: DataConversionWarning: Data with input dtype object was converted to float64 by StandardScaler.\n",
      "  warnings.warn(msg, DataConversionWarning)\n"
     ]
    },
    {
     "data": {
      "text/html": [
       "<div>\n",
       "<style scoped>\n",
       "    .dataframe tbody tr th:only-of-type {\n",
       "        vertical-align: middle;\n",
       "    }\n",
       "\n",
       "    .dataframe tbody tr th {\n",
       "        vertical-align: top;\n",
       "    }\n",
       "\n",
       "    .dataframe thead th {\n",
       "        text-align: right;\n",
       "    }\n",
       "</style>\n",
       "<table border=\"1\" class=\"dataframe\">\n",
       "  <thead>\n",
       "    <tr style=\"text-align: right;\">\n",
       "      <th></th>\n",
       "      <th>o1</th>\n",
       "      <th>o2</th>\n",
       "      <th>d1</th>\n",
       "      <th>d2</th>\n",
       "    </tr>\n",
       "  </thead>\n",
       "  <tbody>\n",
       "    <tr>\n",
       "      <th>0</th>\n",
       "      <td>-0.240500</td>\n",
       "      <td>1.283963</td>\n",
       "      <td>-3.114013</td>\n",
       "      <td>3.733972</td>\n",
       "    </tr>\n",
       "    <tr>\n",
       "      <th>1</th>\n",
       "      <td>-0.327648</td>\n",
       "      <td>1.382996</td>\n",
       "      <td>-0.438127</td>\n",
       "      <td>0.790532</td>\n",
       "    </tr>\n",
       "  </tbody>\n",
       "</table>\n",
       "</div>"
      ],
      "text/plain": [
       "         o1        o2        d1        d2\n",
       "0 -0.240500  1.283963 -3.114013  3.733972\n",
       "1 -0.327648  1.382996 -0.438127  0.790532"
      ]
     },
     "execution_count": 107,
     "metadata": {},
     "output_type": "execute_result"
    }
   ],
   "source": [
    "from sklearn.preprocessing import StandardScaler\n",
    "scale = StandardScaler()\n",
    "scal_o1 = pd.DataFrame(scale.fit_transform(o1))\n",
    "scal_o2 = pd.DataFrame(scale.fit_transform(o2))\n",
    "scal_d1 = pd.DataFrame(scale.fit_transform(d1))\n",
    "scal_d2 = pd.DataFrame(scale.fit_transform(d2))\n",
    "scal_od = pd.concat([scal_o1, scal_o2], axis = 1)\n",
    "scal_od = pd.concat([scal_od, scal_d1], axis = 1)\n",
    "CPQ_od = pd.concat([scal_od, scal_d2], axis = 1)\n",
    "CPQ_od.columns = ['o1', 'o2', 'd1', 'd2']\n",
    "CPQ_od.head(2)"
   ]
  },
  {
   "cell_type": "code",
   "execution_count": 108,
   "metadata": {
    "ExecuteTime": {
     "end_time": "2019-05-13T05:46:43.813829Z",
     "start_time": "2019-05-13T05:46:43.751332Z"
    }
   },
   "outputs": [],
   "source": [
    "CPQ = CPQ[['sid', 'click_time', 'plan_time', 'plans', 'pid', 'req_time','click_mode']]"
   ]
  },
  {
   "cell_type": "code",
   "execution_count": 109,
   "metadata": {
    "ExecuteTime": {
     "end_time": "2019-05-13T05:46:45.501329Z",
     "start_time": "2019-05-13T05:46:45.376329Z"
    }
   },
   "outputs": [
    {
     "data": {
      "text/html": [
       "<div>\n",
       "<style scoped>\n",
       "    .dataframe tbody tr th:only-of-type {\n",
       "        vertical-align: middle;\n",
       "    }\n",
       "\n",
       "    .dataframe tbody tr th {\n",
       "        vertical-align: top;\n",
       "    }\n",
       "\n",
       "    .dataframe thead th {\n",
       "        text-align: right;\n",
       "    }\n",
       "</style>\n",
       "<table border=\"1\" class=\"dataframe\">\n",
       "  <thead>\n",
       "    <tr style=\"text-align: right;\">\n",
       "      <th></th>\n",
       "      <th>sid</th>\n",
       "      <th>click_time</th>\n",
       "      <th>plan_time</th>\n",
       "      <th>plans</th>\n",
       "      <th>pid</th>\n",
       "      <th>req_time</th>\n",
       "      <th>click_mode</th>\n",
       "      <th>o1</th>\n",
       "      <th>o2</th>\n",
       "      <th>d1</th>\n",
       "      <th>d2</th>\n",
       "    </tr>\n",
       "  </thead>\n",
       "  <tbody>\n",
       "    <tr>\n",
       "      <th>0</th>\n",
       "      <td>2848914</td>\n",
       "      <td>2018-11-17 18:42:17</td>\n",
       "      <td>2018-11-17 12:56:15</td>\n",
       "      <td>[{\"distance\": 53156, \"price\": \"\", \"eta\": 6456,...</td>\n",
       "      <td>101804.0</td>\n",
       "      <td>2018-11-17 12:56:15</td>\n",
       "      <td>1</td>\n",
       "      <td>-0.240500</td>\n",
       "      <td>1.283963</td>\n",
       "      <td>-3.114013</td>\n",
       "      <td>3.733972</td>\n",
       "    </tr>\n",
       "    <tr>\n",
       "      <th>1</th>\n",
       "      <td>2629085</td>\n",
       "      <td>2018-10-12 16:28:13</td>\n",
       "      <td>2018-10-12 16:27:55</td>\n",
       "      <td>[{\"distance\": 13207, \"price\": 400, \"eta\": 2790...</td>\n",
       "      <td>203797.0</td>\n",
       "      <td>2018-10-12 16:27:55</td>\n",
       "      <td>3</td>\n",
       "      <td>-0.327648</td>\n",
       "      <td>1.382996</td>\n",
       "      <td>-0.438127</td>\n",
       "      <td>0.790532</td>\n",
       "    </tr>\n",
       "  </tbody>\n",
       "</table>\n",
       "</div>"
      ],
      "text/plain": [
       "       sid           click_time            plan_time  \\\n",
       "0  2848914  2018-11-17 18:42:17  2018-11-17 12:56:15   \n",
       "1  2629085  2018-10-12 16:28:13  2018-10-12 16:27:55   \n",
       "\n",
       "                                               plans       pid  \\\n",
       "0  [{\"distance\": 53156, \"price\": \"\", \"eta\": 6456,...  101804.0   \n",
       "1  [{\"distance\": 13207, \"price\": 400, \"eta\": 2790...  203797.0   \n",
       "\n",
       "              req_time  click_mode        o1        o2        d1        d2  \n",
       "0  2018-11-17 12:56:15           1 -0.240500  1.283963 -3.114013  3.733972  \n",
       "1  2018-10-12 16:27:55           3 -0.327648  1.382996 -0.438127  0.790532  "
      ]
     },
     "execution_count": 109,
     "metadata": {},
     "output_type": "execute_result"
    }
   ],
   "source": [
    "CPQ = pd.concat([CPQ, CPQ_od], axis = 1)\n",
    "CPQ.head(2)"
   ]
  },
  {
   "cell_type": "code",
   "execution_count": 110,
   "metadata": {
    "ExecuteTime": {
     "end_time": "2019-05-13T05:46:47.641953Z",
     "start_time": "2019-05-13T05:46:47.204454Z"
    }
   },
   "outputs": [],
   "source": [
    "CPQ_Profiles = pd.merge(CPQ,profiles, on='pid')"
   ]
  },
  {
   "cell_type": "code",
   "execution_count": 111,
   "metadata": {
    "ExecuteTime": {
     "end_time": "2019-05-13T05:46:49.595084Z",
     "start_time": "2019-05-13T05:46:49.563828Z"
    }
   },
   "outputs": [
    {
     "data": {
      "text/html": [
       "<div>\n",
       "<style scoped>\n",
       "    .dataframe tbody tr th:only-of-type {\n",
       "        vertical-align: middle;\n",
       "    }\n",
       "\n",
       "    .dataframe tbody tr th {\n",
       "        vertical-align: top;\n",
       "    }\n",
       "\n",
       "    .dataframe thead th {\n",
       "        text-align: right;\n",
       "    }\n",
       "</style>\n",
       "<table border=\"1\" class=\"dataframe\">\n",
       "  <thead>\n",
       "    <tr style=\"text-align: right;\">\n",
       "      <th></th>\n",
       "      <th>sid</th>\n",
       "      <th>click_time</th>\n",
       "      <th>plan_time</th>\n",
       "      <th>plans</th>\n",
       "      <th>pid</th>\n",
       "      <th>req_time</th>\n",
       "      <th>click_mode</th>\n",
       "      <th>o1</th>\n",
       "      <th>o2</th>\n",
       "      <th>d1</th>\n",
       "      <th>...</th>\n",
       "      <th>p56</th>\n",
       "      <th>p57</th>\n",
       "      <th>p58</th>\n",
       "      <th>p59</th>\n",
       "      <th>p60</th>\n",
       "      <th>p61</th>\n",
       "      <th>p62</th>\n",
       "      <th>p63</th>\n",
       "      <th>p64</th>\n",
       "      <th>p65</th>\n",
       "    </tr>\n",
       "  </thead>\n",
       "  <tbody>\n",
       "    <tr>\n",
       "      <th>0</th>\n",
       "      <td>2848914</td>\n",
       "      <td>2018-11-17 18:42:17</td>\n",
       "      <td>2018-11-17 12:56:15</td>\n",
       "      <td>[{\"distance\": 53156, \"price\": \"\", \"eta\": 6456,...</td>\n",
       "      <td>101804.0</td>\n",
       "      <td>2018-11-17 12:56:15</td>\n",
       "      <td>1</td>\n",
       "      <td>-0.240500</td>\n",
       "      <td>1.283963</td>\n",
       "      <td>-3.114013</td>\n",
       "      <td>...</td>\n",
       "      <td>0.0</td>\n",
       "      <td>0.0</td>\n",
       "      <td>0.0</td>\n",
       "      <td>0.0</td>\n",
       "      <td>0.0</td>\n",
       "      <td>0.0</td>\n",
       "      <td>0.0</td>\n",
       "      <td>1.0</td>\n",
       "      <td>0.0</td>\n",
       "      <td>0.0</td>\n",
       "    </tr>\n",
       "    <tr>\n",
       "      <th>1</th>\n",
       "      <td>2848913</td>\n",
       "      <td>2018-11-17 22:25:29</td>\n",
       "      <td>2018-11-17 22:25:16</td>\n",
       "      <td>[{\"distance\": 10634, \"price\": 2000, \"eta\": 235...</td>\n",
       "      <td>101804.0</td>\n",
       "      <td>2018-11-17 22:25:16</td>\n",
       "      <td>2</td>\n",
       "      <td>0.195237</td>\n",
       "      <td>-0.201522</td>\n",
       "      <td>0.048397</td>\n",
       "      <td>...</td>\n",
       "      <td>0.0</td>\n",
       "      <td>0.0</td>\n",
       "      <td>0.0</td>\n",
       "      <td>0.0</td>\n",
       "      <td>0.0</td>\n",
       "      <td>0.0</td>\n",
       "      <td>0.0</td>\n",
       "      <td>1.0</td>\n",
       "      <td>0.0</td>\n",
       "      <td>0.0</td>\n",
       "    </tr>\n",
       "  </tbody>\n",
       "</table>\n",
       "<p>2 rows × 77 columns</p>\n",
       "</div>"
      ],
      "text/plain": [
       "       sid           click_time            plan_time  \\\n",
       "0  2848914  2018-11-17 18:42:17  2018-11-17 12:56:15   \n",
       "1  2848913  2018-11-17 22:25:29  2018-11-17 22:25:16   \n",
       "\n",
       "                                               plans       pid  \\\n",
       "0  [{\"distance\": 53156, \"price\": \"\", \"eta\": 6456,...  101804.0   \n",
       "1  [{\"distance\": 10634, \"price\": 2000, \"eta\": 235...  101804.0   \n",
       "\n",
       "              req_time  click_mode        o1        o2        d1 ...   p56  \\\n",
       "0  2018-11-17 12:56:15           1 -0.240500  1.283963 -3.114013 ...   0.0   \n",
       "1  2018-11-17 22:25:16           2  0.195237 -0.201522  0.048397 ...   0.0   \n",
       "\n",
       "   p57  p58  p59  p60  p61  p62  p63  p64  p65  \n",
       "0  0.0  0.0  0.0  0.0  0.0  0.0  1.0  0.0  0.0  \n",
       "1  0.0  0.0  0.0  0.0  0.0  0.0  1.0  0.0  0.0  \n",
       "\n",
       "[2 rows x 77 columns]"
      ]
     },
     "execution_count": 111,
     "metadata": {},
     "output_type": "execute_result"
    }
   ],
   "source": [
    "CPQ_Profiles.head(2)"
   ]
  },
  {
   "cell_type": "code",
   "execution_count": 112,
   "metadata": {
    "ExecuteTime": {
     "end_time": "2019-05-13T05:46:51.782578Z",
     "start_time": "2019-05-13T05:46:51.563827Z"
    }
   },
   "outputs": [],
   "source": [
    "plans = CPQ_Profiles[['plans']]"
   ]
  },
  {
   "cell_type": "code",
   "execution_count": 113,
   "metadata": {
    "ExecuteTime": {
     "end_time": "2019-05-13T05:46:52.923206Z",
     "start_time": "2019-05-13T05:46:52.907586Z"
    }
   },
   "outputs": [
    {
     "data": {
      "text/html": [
       "<div>\n",
       "<style scoped>\n",
       "    .dataframe tbody tr th:only-of-type {\n",
       "        vertical-align: middle;\n",
       "    }\n",
       "\n",
       "    .dataframe tbody tr th {\n",
       "        vertical-align: top;\n",
       "    }\n",
       "\n",
       "    .dataframe thead th {\n",
       "        text-align: right;\n",
       "    }\n",
       "</style>\n",
       "<table border=\"1\" class=\"dataframe\">\n",
       "  <thead>\n",
       "    <tr style=\"text-align: right;\">\n",
       "      <th></th>\n",
       "      <th>plans</th>\n",
       "    </tr>\n",
       "  </thead>\n",
       "  <tbody>\n",
       "    <tr>\n",
       "      <th>0</th>\n",
       "      <td>[{\"distance\": 53156, \"price\": \"\", \"eta\": 6456,...</td>\n",
       "    </tr>\n",
       "    <tr>\n",
       "      <th>1</th>\n",
       "      <td>[{\"distance\": 10634, \"price\": 2000, \"eta\": 235...</td>\n",
       "    </tr>\n",
       "  </tbody>\n",
       "</table>\n",
       "</div>"
      ],
      "text/plain": [
       "                                               plans\n",
       "0  [{\"distance\": 53156, \"price\": \"\", \"eta\": 6456,...\n",
       "1  [{\"distance\": 10634, \"price\": 2000, \"eta\": 235..."
      ]
     },
     "execution_count": 113,
     "metadata": {},
     "output_type": "execute_result"
    }
   ],
   "source": [
    "plans.head(2)"
   ]
  },
  {
   "cell_type": "code",
   "execution_count": 114,
   "metadata": {
    "ExecuteTime": {
     "end_time": "2019-05-13T05:46:56.188849Z",
     "start_time": "2019-05-13T05:46:54.157614Z"
    }
   },
   "outputs": [],
   "source": [
    "plans = plans['plans'].str.replace('{\"distance\": ','')\n",
    "plans = plans.str.replace('\"price\": ','')\n",
    "plans = plans.str.replace('\"eta\": ','')\n",
    "plans = plans.str.replace('\"transport_mode\": ','')\n",
    "plans = plans.str.replace('}','')\n",
    "plans = plans.str.replace('\"\"','0')\n",
    "plans = plans.str.replace('[','')\n",
    "plans = plans.str.replace(']','')"
   ]
  },
  {
   "cell_type": "code",
   "execution_count": 115,
   "metadata": {
    "ExecuteTime": {
     "end_time": "2019-05-13T05:46:57.376329Z",
     "start_time": "2019-05-13T05:46:57.360704Z"
    }
   },
   "outputs": [
    {
     "data": {
      "text/plain": [
       "0    53156, 0, 6456, 1, 48112, 0, 3535, 3, 48112, 1...\n",
       "1    10634, 2000, 2355, 10, 10866, 0, 1917, 3, 1086...\n",
       "Name: plans, dtype: object"
      ]
     },
     "execution_count": 115,
     "metadata": {},
     "output_type": "execute_result"
    }
   ],
   "source": [
    "plans.head(2)"
   ]
  },
  {
   "cell_type": "code",
   "execution_count": 116,
   "metadata": {
    "ExecuteTime": {
     "end_time": "2019-05-13T05:47:01.157600Z",
     "start_time": "2019-05-13T05:46:58.485702Z"
    }
   },
   "outputs": [],
   "source": [
    "#27跟沒有的差別在哪裏呢。。\n",
    "plans = plans.str.split(',',27,True)\n",
    "plans = plans.fillna(value=-1)"
   ]
  },
  {
   "cell_type": "code",
   "execution_count": 117,
   "metadata": {
    "ExecuteTime": {
     "end_time": "2019-05-13T05:47:02.595112Z",
     "start_time": "2019-05-13T05:47:02.563863Z"
    }
   },
   "outputs": [
    {
     "data": {
      "text/html": [
       "<div>\n",
       "<style scoped>\n",
       "    .dataframe tbody tr th:only-of-type {\n",
       "        vertical-align: middle;\n",
       "    }\n",
       "\n",
       "    .dataframe tbody tr th {\n",
       "        vertical-align: top;\n",
       "    }\n",
       "\n",
       "    .dataframe thead th {\n",
       "        text-align: right;\n",
       "    }\n",
       "</style>\n",
       "<table border=\"1\" class=\"dataframe\">\n",
       "  <thead>\n",
       "    <tr style=\"text-align: right;\">\n",
       "      <th></th>\n",
       "      <th>distance0</th>\n",
       "      <th>price0</th>\n",
       "      <th>eta0</th>\n",
       "      <th>transport_mode0</th>\n",
       "      <th>distance1</th>\n",
       "      <th>price1</th>\n",
       "      <th>eta1</th>\n",
       "      <th>transport_mode1</th>\n",
       "      <th>distance2</th>\n",
       "      <th>price2</th>\n",
       "      <th>...</th>\n",
       "      <th>eta4</th>\n",
       "      <th>transport_mode4</th>\n",
       "      <th>distance5</th>\n",
       "      <th>price5</th>\n",
       "      <th>eta5</th>\n",
       "      <th>transport_mode5</th>\n",
       "      <th>distance6</th>\n",
       "      <th>price6</th>\n",
       "      <th>eta6</th>\n",
       "      <th>transport_mode6</th>\n",
       "    </tr>\n",
       "  </thead>\n",
       "  <tbody>\n",
       "    <tr>\n",
       "      <th>0</th>\n",
       "      <td>53156</td>\n",
       "      <td>0</td>\n",
       "      <td>6456</td>\n",
       "      <td>1</td>\n",
       "      <td>48112</td>\n",
       "      <td>0</td>\n",
       "      <td>3535</td>\n",
       "      <td>3</td>\n",
       "      <td>48112</td>\n",
       "      <td>16500</td>\n",
       "      <td>...</td>\n",
       "      <td>-1</td>\n",
       "      <td>-1</td>\n",
       "      <td>-1</td>\n",
       "      <td>-1</td>\n",
       "      <td>-1</td>\n",
       "      <td>-1</td>\n",
       "      <td>-1</td>\n",
       "      <td>-1</td>\n",
       "      <td>-1</td>\n",
       "      <td>-1</td>\n",
       "    </tr>\n",
       "    <tr>\n",
       "      <th>1</th>\n",
       "      <td>10634</td>\n",
       "      <td>2000</td>\n",
       "      <td>2355</td>\n",
       "      <td>10</td>\n",
       "      <td>10866</td>\n",
       "      <td>0</td>\n",
       "      <td>1917</td>\n",
       "      <td>3</td>\n",
       "      <td>10866</td>\n",
       "      <td>4700</td>\n",
       "      <td>...</td>\n",
       "      <td>2803</td>\n",
       "      <td>9</td>\n",
       "      <td>-1</td>\n",
       "      <td>-1</td>\n",
       "      <td>-1</td>\n",
       "      <td>-1</td>\n",
       "      <td>-1</td>\n",
       "      <td>-1</td>\n",
       "      <td>-1</td>\n",
       "      <td>-1</td>\n",
       "    </tr>\n",
       "  </tbody>\n",
       "</table>\n",
       "<p>2 rows × 28 columns</p>\n",
       "</div>"
      ],
      "text/plain": [
       "  distance0 price0   eta0 transport_mode0 distance1 price1   eta1  \\\n",
       "0     53156      0   6456               1     48112      0   3535   \n",
       "1     10634   2000   2355              10     10866      0   1917   \n",
       "\n",
       "  transport_mode1 distance2  price2       ...         eta4 transport_mode4  \\\n",
       "0               3     48112   16500       ...           -1              -1   \n",
       "1               3     10866    4700       ...         2803               9   \n",
       "\n",
       "  distance5 price5 eta5 transport_mode5 distance6 price6 eta6 transport_mode6  \n",
       "0        -1     -1   -1              -1        -1     -1   -1              -1  \n",
       "1        -1     -1   -1              -1        -1     -1   -1              -1  \n",
       "\n",
       "[2 rows x 28 columns]"
      ]
     },
     "execution_count": 117,
     "metadata": {},
     "output_type": "execute_result"
    }
   ],
   "source": [
    "plans.columns = ['distance0', 'price0', 'eta0', 'transport_mode0','distance1', 'price1', 'eta1', 'transport_mode1','distance2', 'price2', 'eta2', 'transport_mode2','distance3', 'price3', 'eta3', 'transport_mode3','distance4', 'price4', 'eta4', 'transport_mode4','distance5', 'price5', 'eta5', 'transport_mode5','distance6', 'price6', 'eta6', 'transport_mode6']\n",
    "plans.head(2)"
   ]
  },
  {
   "cell_type": "code",
   "execution_count": 118,
   "metadata": {
    "ExecuteTime": {
     "end_time": "2019-05-13T05:47:04.372298Z",
     "start_time": "2019-05-13T05:47:03.954453Z"
    }
   },
   "outputs": [
    {
     "data": {
      "text/html": [
       "<div>\n",
       "<style scoped>\n",
       "    .dataframe tbody tr th:only-of-type {\n",
       "        vertical-align: middle;\n",
       "    }\n",
       "\n",
       "    .dataframe tbody tr th {\n",
       "        vertical-align: top;\n",
       "    }\n",
       "\n",
       "    .dataframe thead th {\n",
       "        text-align: right;\n",
       "    }\n",
       "</style>\n",
       "<table border=\"1\" class=\"dataframe\">\n",
       "  <thead>\n",
       "    <tr style=\"text-align: right;\">\n",
       "      <th></th>\n",
       "      <th>sid</th>\n",
       "      <th>click_time</th>\n",
       "      <th>plan_time</th>\n",
       "      <th>pid</th>\n",
       "      <th>req_time</th>\n",
       "      <th>click_mode</th>\n",
       "      <th>o1</th>\n",
       "      <th>o2</th>\n",
       "      <th>d1</th>\n",
       "      <th>d2</th>\n",
       "      <th>...</th>\n",
       "      <th>eta4</th>\n",
       "      <th>transport_mode4</th>\n",
       "      <th>distance5</th>\n",
       "      <th>price5</th>\n",
       "      <th>eta5</th>\n",
       "      <th>transport_mode5</th>\n",
       "      <th>distance6</th>\n",
       "      <th>price6</th>\n",
       "      <th>eta6</th>\n",
       "      <th>transport_mode6</th>\n",
       "    </tr>\n",
       "  </thead>\n",
       "  <tbody>\n",
       "    <tr>\n",
       "      <th>0</th>\n",
       "      <td>2848914</td>\n",
       "      <td>2018-11-17 18:42:17</td>\n",
       "      <td>2018-11-17 12:56:15</td>\n",
       "      <td>101804.0</td>\n",
       "      <td>2018-11-17 12:56:15</td>\n",
       "      <td>1</td>\n",
       "      <td>-0.240500</td>\n",
       "      <td>1.283963</td>\n",
       "      <td>-3.114013</td>\n",
       "      <td>3.733972</td>\n",
       "      <td>...</td>\n",
       "      <td>-1</td>\n",
       "      <td>-1</td>\n",
       "      <td>-1</td>\n",
       "      <td>-1</td>\n",
       "      <td>-1</td>\n",
       "      <td>-1</td>\n",
       "      <td>-1</td>\n",
       "      <td>-1</td>\n",
       "      <td>-1</td>\n",
       "      <td>-1</td>\n",
       "    </tr>\n",
       "    <tr>\n",
       "      <th>1</th>\n",
       "      <td>2848913</td>\n",
       "      <td>2018-11-17 22:25:29</td>\n",
       "      <td>2018-11-17 22:25:16</td>\n",
       "      <td>101804.0</td>\n",
       "      <td>2018-11-17 22:25:16</td>\n",
       "      <td>2</td>\n",
       "      <td>0.195237</td>\n",
       "      <td>-0.201522</td>\n",
       "      <td>0.048397</td>\n",
       "      <td>0.422602</td>\n",
       "      <td>...</td>\n",
       "      <td>2803</td>\n",
       "      <td>9</td>\n",
       "      <td>-1</td>\n",
       "      <td>-1</td>\n",
       "      <td>-1</td>\n",
       "      <td>-1</td>\n",
       "      <td>-1</td>\n",
       "      <td>-1</td>\n",
       "      <td>-1</td>\n",
       "      <td>-1</td>\n",
       "    </tr>\n",
       "    <tr>\n",
       "      <th>2</th>\n",
       "      <td>2542469</td>\n",
       "      <td>2018-11-19 10:30:57</td>\n",
       "      <td>2018-11-19 10:30:50</td>\n",
       "      <td>101804.0</td>\n",
       "      <td>2018-11-19 10:30:50</td>\n",
       "      <td>2</td>\n",
       "      <td>1.938187</td>\n",
       "      <td>1.085898</td>\n",
       "      <td>0.210572</td>\n",
       "      <td>-0.221276</td>\n",
       "      <td>...</td>\n",
       "      <td>6228</td>\n",
       "      <td>1</td>\n",
       "      <td>-1</td>\n",
       "      <td>-1</td>\n",
       "      <td>-1</td>\n",
       "      <td>-1</td>\n",
       "      <td>-1</td>\n",
       "      <td>-1</td>\n",
       "      <td>-1</td>\n",
       "      <td>-1</td>\n",
       "    </tr>\n",
       "    <tr>\n",
       "      <th>3</th>\n",
       "      <td>381188</td>\n",
       "      <td>2018-10-05 12:37:07</td>\n",
       "      <td>2018-10-05 12:37:05</td>\n",
       "      <td>101804.0</td>\n",
       "      <td>2018-10-05 12:37:05</td>\n",
       "      <td>2</td>\n",
       "      <td>0.282385</td>\n",
       "      <td>-0.597652</td>\n",
       "      <td>1.589059</td>\n",
       "      <td>1.250444</td>\n",
       "      <td>...</td>\n",
       "      <td>6262</td>\n",
       "      <td>7</td>\n",
       "      <td>-1</td>\n",
       "      <td>-1</td>\n",
       "      <td>-1</td>\n",
       "      <td>-1</td>\n",
       "      <td>-1</td>\n",
       "      <td>-1</td>\n",
       "      <td>-1</td>\n",
       "      <td>-1</td>\n",
       "    </tr>\n",
       "    <tr>\n",
       "      <th>4</th>\n",
       "      <td>1601376</td>\n",
       "      <td>2018-10-03 13:32:30</td>\n",
       "      <td>2018-10-03 13:27:35</td>\n",
       "      <td>101804.0</td>\n",
       "      <td>2018-10-03 13:27:35</td>\n",
       "      <td>1</td>\n",
       "      <td>-0.153353</td>\n",
       "      <td>0.095575</td>\n",
       "      <td>0.048397</td>\n",
       "      <td>-0.497223</td>\n",
       "      <td>...</td>\n",
       "      <td>4013</td>\n",
       "      <td>1</td>\n",
       "      <td>-1</td>\n",
       "      <td>-1</td>\n",
       "      <td>-1</td>\n",
       "      <td>-1</td>\n",
       "      <td>-1</td>\n",
       "      <td>-1</td>\n",
       "      <td>-1</td>\n",
       "      <td>-1</td>\n",
       "    </tr>\n",
       "  </tbody>\n",
       "</table>\n",
       "<p>5 rows × 104 columns</p>\n",
       "</div>"
      ],
      "text/plain": [
       "       sid           click_time            plan_time       pid  \\\n",
       "0  2848914  2018-11-17 18:42:17  2018-11-17 12:56:15  101804.0   \n",
       "1  2848913  2018-11-17 22:25:29  2018-11-17 22:25:16  101804.0   \n",
       "2  2542469  2018-11-19 10:30:57  2018-11-19 10:30:50  101804.0   \n",
       "3   381188  2018-10-05 12:37:07  2018-10-05 12:37:05  101804.0   \n",
       "4  1601376  2018-10-03 13:32:30  2018-10-03 13:27:35  101804.0   \n",
       "\n",
       "              req_time  click_mode        o1        o2        d1        d2  \\\n",
       "0  2018-11-17 12:56:15           1 -0.240500  1.283963 -3.114013  3.733972   \n",
       "1  2018-11-17 22:25:16           2  0.195237 -0.201522  0.048397  0.422602   \n",
       "2  2018-11-19 10:30:50           2  1.938187  1.085898  0.210572 -0.221276   \n",
       "3  2018-10-05 12:37:05           2  0.282385 -0.597652  1.589059  1.250444   \n",
       "4  2018-10-03 13:27:35           1 -0.153353  0.095575  0.048397 -0.497223   \n",
       "\n",
       "        ...          eta4  transport_mode4  distance5  price5  eta5  \\\n",
       "0       ...            -1               -1         -1      -1    -1   \n",
       "1       ...          2803                9         -1      -1    -1   \n",
       "2       ...          6228                1         -1      -1    -1   \n",
       "3       ...          6262                7         -1      -1    -1   \n",
       "4       ...          4013                1         -1      -1    -1   \n",
       "\n",
       "   transport_mode5  distance6  price6  eta6  transport_mode6  \n",
       "0               -1         -1      -1    -1               -1  \n",
       "1               -1         -1      -1    -1               -1  \n",
       "2               -1         -1      -1    -1               -1  \n",
       "3               -1         -1      -1    -1               -1  \n",
       "4               -1         -1      -1    -1               -1  \n",
       "\n",
       "[5 rows x 104 columns]"
      ]
     },
     "execution_count": 118,
     "metadata": {},
     "output_type": "execute_result"
    }
   ],
   "source": [
    "CPQ_Profiles = CPQ_Profiles.drop(['plans'], axis=1)\n",
    "CPQ_Profiles = pd.concat([CPQ_Profiles, plans], axis = 1)\n",
    "CPQ_Profiles.head()"
   ]
  },
  {
   "cell_type": "code",
   "execution_count": 119,
   "metadata": {
    "ExecuteTime": {
     "end_time": "2019-05-13T05:47:06.028549Z",
     "start_time": "2019-05-13T05:47:06.012923Z"
    }
   },
   "outputs": [],
   "source": [
    "###########################################################################################################################"
   ]
  },
  {
   "cell_type": "code",
   "execution_count": 120,
   "metadata": {
    "ExecuteTime": {
     "end_time": "2019-05-13T05:47:07.653550Z",
     "start_time": "2019-05-13T05:47:07.637924Z"
    }
   },
   "outputs": [
    {
     "data": {
      "text/plain": [
       "Index(['sid', 'click_time', 'plan_time', 'pid', 'req_time', 'click_mode', 'o1',\n",
       "       'o2', 'd1', 'd2',\n",
       "       ...\n",
       "       'eta4', 'transport_mode4', 'distance5', 'price5', 'eta5',\n",
       "       'transport_mode5', 'distance6', 'price6', 'eta6', 'transport_mode6'],\n",
       "      dtype='object', length=104)"
      ]
     },
     "execution_count": 120,
     "metadata": {},
     "output_type": "execute_result"
    }
   ],
   "source": [
    "CPQ_Profiles.columns"
   ]
  },
  {
   "cell_type": "code",
   "execution_count": null,
   "metadata": {},
   "outputs": [],
   "source": [
    "#####################################ADD time differnce!!##########################################################"
   ]
  },
  {
   "cell_type": "code",
   "execution_count": 71,
   "metadata": {
    "ExecuteTime": {
     "end_time": "2019-05-12T11:01:33.476430Z",
     "start_time": "2019-05-12T11:01:32.554610Z"
    }
   },
   "outputs": [],
   "source": [
    "#get label\n",
    "label = CPQ_Profiles['click_mode']\n",
    "#label을 합성한 자료에서 없애기\n",
    "CPQ_Profiles = CPQ_Profiles.drop(['sid', 'click_time', 'plan_time', 'pid', 'req_time', 'click_mode'], axis=1)"
   ]
  },
  {
   "cell_type": "code",
   "execution_count": 73,
   "metadata": {
    "ExecuteTime": {
     "end_time": "2019-05-12T11:01:57.664058Z",
     "start_time": "2019-05-12T11:01:57.648322Z"
    }
   },
   "outputs": [],
   "source": [
    "###########################################################################################################################"
   ]
  },
  {
   "cell_type": "code",
   "execution_count": 74,
   "metadata": {
    "ExecuteTime": {
     "end_time": "2019-05-12T11:03:56.867933Z",
     "start_time": "2019-05-12T11:03:46.039862Z"
    }
   },
   "outputs": [
    {
     "data": {
      "text/plain": [
       "DecisionTreeClassifier(class_weight=None, criterion='gini', max_depth=22,\n",
       "            max_features=None, max_leaf_nodes=None,\n",
       "            min_impurity_decrease=0.0, min_impurity_split=None,\n",
       "            min_samples_leaf=1, min_samples_split=2,\n",
       "            min_weight_fraction_leaf=0.0, presort=False, random_state=5,\n",
       "            splitter='best')"
      ]
     },
     "execution_count": 74,
     "metadata": {},
     "output_type": "execute_result"
    }
   ],
   "source": [
    "from sklearn.model_selection import train_test_split\n",
    "from sklearn.tree import DecisionTreeClassifier\n",
    "train_dataSV , test_dataSV , train_labelSV , test_labelSV = train_test_split(CPQ_Profiles,label,test_size=0.2)\n",
    "tree = DecisionTreeClassifier(criterion = 'gini', random_state=5, max_depth=22)\n",
    "tree.fit(train_dataSV, train_labelSV)"
   ]
  },
  {
   "cell_type": "code",
   "execution_count": 75,
   "metadata": {
    "ExecuteTime": {
     "end_time": "2019-05-12T11:04:02.852306Z",
     "start_time": "2019-05-12T11:03:59.524237Z"
    }
   },
   "outputs": [
    {
     "name": "stdout",
     "output_type": "stream",
     "text": [
      "[9 7 2 ... 5 1 1]\n",
      "[9 9 2 ... 5 1 3]\n",
      "0.9160268227953242\n",
      "0.7204142491329293\n"
     ]
    }
   ],
   "source": [
    "print(tree.predict(test_dataSV))\n",
    "print(test_labelSV.values)\n",
    "accuracyMlp = metrics.accuracy_score(train_labelSV.values, tree.predict(train_dataSV))\n",
    "accuracy_testMlp = metrics.accuracy_score(test_labelSV.values, tree.predict(test_dataSV))\n",
    "print(accuracyMlp)\n",
    "print(accuracy_testMlp)"
   ]
  },
  {
   "cell_type": "markdown",
   "metadata": {},
   "source": [
    "### Experiment"
   ]
  },
  {
   "cell_type": "code",
   "execution_count": 76,
   "metadata": {
    "ExecuteTime": {
     "end_time": "2019-05-12T11:05:56.934147Z",
     "start_time": "2019-05-12T11:05:56.152971Z"
    }
   },
   "outputs": [],
   "source": [
    "test_plans = pd.read_csv('test_plans.csv')\n",
    "test_queries = pd.read_csv('test_queries.csv')\n",
    "profiles = pd.read_csv('profiles.csv')"
   ]
  },
  {
   "cell_type": "code",
   "execution_count": 86,
   "metadata": {
    "ExecuteTime": {
     "end_time": "2019-05-12T11:21:07.775689Z",
     "start_time": "2019-05-12T11:21:05.822621Z"
    }
   },
   "outputs": [
    {
     "name": "stderr",
     "output_type": "stream",
     "text": [
      "C:\\Users\\user\\Anaconda3\\envs\\brent\\lib\\site-packages\\sklearn\\utils\\validation.py:595: DataConversionWarning: Data with input dtype object was converted to float64 by StandardScaler.\n",
      "  warnings.warn(msg, DataConversionWarning)\n",
      "C:\\Users\\user\\Anaconda3\\envs\\brent\\lib\\site-packages\\sklearn\\utils\\validation.py:595: DataConversionWarning: Data with input dtype object was converted to float64 by StandardScaler.\n",
      "  warnings.warn(msg, DataConversionWarning)\n",
      "C:\\Users\\user\\Anaconda3\\envs\\brent\\lib\\site-packages\\sklearn\\utils\\validation.py:595: DataConversionWarning: Data with input dtype object was converted to float64 by StandardScaler.\n",
      "  warnings.warn(msg, DataConversionWarning)\n",
      "C:\\Users\\user\\Anaconda3\\envs\\brent\\lib\\site-packages\\sklearn\\utils\\validation.py:595: DataConversionWarning: Data with input dtype object was converted to float64 by StandardScaler.\n",
      "  warnings.warn(msg, DataConversionWarning)\n",
      "C:\\Users\\user\\Anaconda3\\envs\\brent\\lib\\site-packages\\sklearn\\utils\\validation.py:595: DataConversionWarning: Data with input dtype object was converted to float64 by StandardScaler.\n",
      "  warnings.warn(msg, DataConversionWarning)\n",
      "C:\\Users\\user\\Anaconda3\\envs\\brent\\lib\\site-packages\\sklearn\\utils\\validation.py:595: DataConversionWarning: Data with input dtype object was converted to float64 by StandardScaler.\n",
      "  warnings.warn(msg, DataConversionWarning)\n",
      "C:\\Users\\user\\Anaconda3\\envs\\brent\\lib\\site-packages\\sklearn\\utils\\validation.py:595: DataConversionWarning: Data with input dtype object was converted to float64 by StandardScaler.\n",
      "  warnings.warn(msg, DataConversionWarning)\n",
      "C:\\Users\\user\\Anaconda3\\envs\\brent\\lib\\site-packages\\sklearn\\utils\\validation.py:595: DataConversionWarning: Data with input dtype object was converted to float64 by StandardScaler.\n",
      "  warnings.warn(msg, DataConversionWarning)\n"
     ]
    }
   ],
   "source": [
    "RCPQ = pd.merge(test_plans,test_queries, on='sid')\n",
    "Rhalfo = RCPQ['o'].str.split(',',2,True)\n",
    "Rhalfd = RCPQ['d'].str.split(',',2,True)\n",
    "RCPQ = RCPQ.drop(['o','d'], axis=1)\n",
    "RCPQ = pd.concat([RCPQ, Rhalfo], axis = 1)\n",
    "RCPQ.rename(columns={ RCPQ.columns[-1]: \"o2\" }, inplace=True)\n",
    "RCPQ.rename(columns={ RCPQ.columns[-2]: \"o1\" }, inplace=True)\n",
    "RCPQ = pd.concat([RCPQ, Rhalfd], axis = 1)\n",
    "RCPQ.rename(columns={ RCPQ.columns[-1]: \"d2\" }, inplace=True)\n",
    "RCPQ.rename(columns={ RCPQ.columns[-2]: \"d1\" }, inplace=True)\n",
    "RCPQ_od = RCPQ[['o1','o2','d1','d2']]\n",
    "o1 = RCPQ_od['o1'].values.reshape(-1, 1)\n",
    "o2 = RCPQ_od['o2'].values.reshape(-1, 1)\n",
    "d1 = RCPQ_od['d1'].values.reshape(-1, 1)\n",
    "d2 = RCPQ_od['d2'].values.reshape(-1, 1)\n",
    "from sklearn.preprocessing import StandardScaler\n",
    "scale = StandardScaler()\n",
    "scal_o1 = pd.DataFrame(scale.fit_transform(o1))\n",
    "scal_o2 = pd.DataFrame(scale.fit_transform(o2))\n",
    "scal_d1 = pd.DataFrame(scale.fit_transform(d1))\n",
    "scal_d2 = pd.DataFrame(scale.fit_transform(d2))\n",
    "scal_od = pd.concat([scal_o1, scal_o2], axis = 1)\n",
    "scal_od = pd.concat([scal_od, scal_d1], axis = 1)\n",
    "RCPQ_od = pd.concat([scal_od, scal_d2], axis = 1)\n",
    "RCPQ_od.columns = ['o1', 'o2', 'd1', 'd2']\n",
    "##################\n",
    "RCPQ = RCPQ[['sid', 'plan_time', 'plans', 'pid', 'req_time']]\n",
    "RCPQ = pd.concat([RCPQ, RCPQ_od], axis = 1)\n",
    "RCPQ_Profiles = pd.merge(RCPQ,profiles, on='pid')\n",
    "\n",
    "Rplans = RCPQ_Profiles[['plans']]\n",
    "\n",
    "Rplans = Rplans['plans'].str.replace('{\"distance\": ','')\n",
    "Rplans = Rplans.str.replace('\"price\": ','')\n",
    "Rplans = Rplans.str.replace('\"eta\": ','')\n",
    "Rplans = Rplans.str.replace('\"transport_mode\": ','')\n",
    "Rplans = Rplans.str.replace('}','')\n",
    "Rplans = Rplans.str.replace('\"\"','0')\n",
    "Rplans = Rplans.str.replace('[','')\n",
    "Rplans = Rplans.str.replace(']','')\n",
    "\n",
    "Rplans = Rplans.str.split(',',27,True)\n",
    "Rplans = Rplans.fillna(value=-1)\n",
    "\n",
    "Rplans.columns = ['distance0', 'price0', 'eta0', 'transport_mode0','distance1', 'price1', 'eta1', 'transport_mode1','distance2', 'price2', 'eta2', 'transport_mode2','distance3', 'price3', 'eta3', 'transport_mode3','distance4', 'price4', 'eta4', 'transport_mode4','distance5', 'price5', 'eta5', 'transport_mode5','distance6', 'price6', 'eta6', 'transport_mode6']\n",
    "\n",
    "RCPQ_Profiles = RCPQ_Profiles.drop(['plans'], axis=1)\n",
    "RCPQ_Profiles = pd.concat([RCPQ_Profiles, Rplans], axis = 1)\n",
    "\n",
    "sid = RCPQ_Profiles[['sid']]\n",
    "RCPQ_Profiles = RCPQ_Profiles.drop(['sid', 'plan_time', 'pid', 'req_time'], axis=1)"
   ]
  },
  {
   "cell_type": "code",
   "execution_count": 87,
   "metadata": {
    "ExecuteTime": {
     "end_time": "2019-05-12T11:21:15.416315Z",
     "start_time": "2019-05-12T11:21:14.931995Z"
    }
   },
   "outputs": [],
   "source": [
    "result = pd.DataFrame(tree.predict(RCPQ_Profiles))"
   ]
  },
  {
   "cell_type": "code",
   "execution_count": 88,
   "metadata": {
    "ExecuteTime": {
     "end_time": "2019-05-12T11:21:17.291419Z",
     "start_time": "2019-05-12T11:21:17.275752Z"
    }
   },
   "outputs": [],
   "source": [
    "result = result.astype('int')"
   ]
  },
  {
   "cell_type": "code",
   "execution_count": 89,
   "metadata": {
    "ExecuteTime": {
     "end_time": "2019-05-12T11:21:18.681940Z",
     "start_time": "2019-05-12T11:21:18.666370Z"
    }
   },
   "outputs": [],
   "source": [
    "result = pd.concat([sid, result], axis=1)"
   ]
  },
  {
   "cell_type": "code",
   "execution_count": 94,
   "metadata": {
    "ExecuteTime": {
     "end_time": "2019-05-12T11:22:26.354215Z",
     "start_time": "2019-05-12T11:22:26.338662Z"
    }
   },
   "outputs": [
    {
     "data": {
      "text/html": [
       "<div>\n",
       "<style scoped>\n",
       "    .dataframe tbody tr th:only-of-type {\n",
       "        vertical-align: middle;\n",
       "    }\n",
       "\n",
       "    .dataframe tbody tr th {\n",
       "        vertical-align: top;\n",
       "    }\n",
       "\n",
       "    .dataframe thead th {\n",
       "        text-align: right;\n",
       "    }\n",
       "</style>\n",
       "<table border=\"1\" class=\"dataframe\">\n",
       "  <thead>\n",
       "    <tr style=\"text-align: right;\">\n",
       "      <th></th>\n",
       "      <th>sid</th>\n",
       "      <th>0</th>\n",
       "    </tr>\n",
       "  </thead>\n",
       "  <tbody>\n",
       "    <tr>\n",
       "      <th>0</th>\n",
       "      <td>1413458</td>\n",
       "      <td>2</td>\n",
       "    </tr>\n",
       "    <tr>\n",
       "      <th>1</th>\n",
       "      <td>1413461</td>\n",
       "      <td>2</td>\n",
       "    </tr>\n",
       "    <tr>\n",
       "      <th>2</th>\n",
       "      <td>2041251</td>\n",
       "      <td>7</td>\n",
       "    </tr>\n",
       "  </tbody>\n",
       "</table>\n",
       "</div>"
      ],
      "text/plain": [
       "       sid  0\n",
       "0  1413458  2\n",
       "1  1413461  2\n",
       "2  2041251  7"
      ]
     },
     "execution_count": 94,
     "metadata": {},
     "output_type": "execute_result"
    }
   ],
   "source": [
    "result.head(3)"
   ]
  },
  {
   "cell_type": "code",
   "execution_count": 92,
   "metadata": {
    "ExecuteTime": {
     "end_time": "2019-05-12T11:22:19.916704Z",
     "start_time": "2019-05-12T11:22:19.744810Z"
    }
   },
   "outputs": [],
   "source": [
    "result.to_csv('Result_0512.csv')"
   ]
  },
  {
   "cell_type": "code",
   "execution_count": 84,
   "metadata": {
    "ExecuteTime": {
     "end_time": "2019-05-12T11:17:54.319228Z",
     "start_time": "2019-05-12T11:17:54.287877Z"
    }
   },
   "outputs": [
    {
     "data": {
      "text/html": [
       "<div>\n",
       "<style scoped>\n",
       "    .dataframe tbody tr th:only-of-type {\n",
       "        vertical-align: middle;\n",
       "    }\n",
       "\n",
       "    .dataframe tbody tr th {\n",
       "        vertical-align: top;\n",
       "    }\n",
       "\n",
       "    .dataframe thead th {\n",
       "        text-align: right;\n",
       "    }\n",
       "</style>\n",
       "<table border=\"1\" class=\"dataframe\">\n",
       "  <thead>\n",
       "    <tr style=\"text-align: right;\">\n",
       "      <th></th>\n",
       "      <th>o1</th>\n",
       "      <th>o2</th>\n",
       "      <th>d1</th>\n",
       "      <th>d2</th>\n",
       "      <th>p0</th>\n",
       "      <th>p1</th>\n",
       "      <th>p2</th>\n",
       "      <th>p3</th>\n",
       "      <th>p4</th>\n",
       "      <th>p5</th>\n",
       "      <th>...</th>\n",
       "      <th>eta4</th>\n",
       "      <th>transport_mode4</th>\n",
       "      <th>distance5</th>\n",
       "      <th>price5</th>\n",
       "      <th>eta5</th>\n",
       "      <th>transport_mode5</th>\n",
       "      <th>distance6</th>\n",
       "      <th>price6</th>\n",
       "      <th>eta6</th>\n",
       "      <th>transport_mode6</th>\n",
       "    </tr>\n",
       "  </thead>\n",
       "  <tbody>\n",
       "    <tr>\n",
       "      <th>0</th>\n",
       "      <td>0.932843</td>\n",
       "      <td>-0.090398</td>\n",
       "      <td>1.074481</td>\n",
       "      <td>-1.431953</td>\n",
       "      <td>1.0</td>\n",
       "      <td>0.0</td>\n",
       "      <td>0.0</td>\n",
       "      <td>0.0</td>\n",
       "      <td>0.0</td>\n",
       "      <td>0.0</td>\n",
       "      <td>...</td>\n",
       "      <td>8397</td>\n",
       "      <td>1</td>\n",
       "      <td>-1</td>\n",
       "      <td>-1</td>\n",
       "      <td>-1</td>\n",
       "      <td>-1</td>\n",
       "      <td>-1</td>\n",
       "      <td>-1</td>\n",
       "      <td>-1</td>\n",
       "      <td>-1</td>\n",
       "    </tr>\n",
       "  </tbody>\n",
       "</table>\n",
       "<p>1 rows × 98 columns</p>\n",
       "</div>"
      ],
      "text/plain": [
       "         o1        o2        d1        d2   p0   p1   p2   p3   p4   p5  \\\n",
       "0  0.932843 -0.090398  1.074481 -1.431953  1.0  0.0  0.0  0.0  0.0  0.0   \n",
       "\n",
       "        ...          eta4  transport_mode4  distance5  price5  eta5  \\\n",
       "0       ...          8397                1         -1      -1    -1   \n",
       "\n",
       "   transport_mode5  distance6  price6  eta6  transport_mode6  \n",
       "0               -1         -1      -1    -1               -1  \n",
       "\n",
       "[1 rows x 98 columns]"
      ]
     },
     "execution_count": 84,
     "metadata": {},
     "output_type": "execute_result"
    }
   ],
   "source": [
    "RCPQ_Profiles.head(1)"
   ]
  },
  {
   "cell_type": "code",
   "execution_count": 85,
   "metadata": {
    "ExecuteTime": {
     "end_time": "2019-05-12T11:18:03.584725Z",
     "start_time": "2019-05-12T11:18:03.553531Z"
    }
   },
   "outputs": [
    {
     "data": {
      "text/html": [
       "<div>\n",
       "<style scoped>\n",
       "    .dataframe tbody tr th:only-of-type {\n",
       "        vertical-align: middle;\n",
       "    }\n",
       "\n",
       "    .dataframe tbody tr th {\n",
       "        vertical-align: top;\n",
       "    }\n",
       "\n",
       "    .dataframe thead th {\n",
       "        text-align: right;\n",
       "    }\n",
       "</style>\n",
       "<table border=\"1\" class=\"dataframe\">\n",
       "  <thead>\n",
       "    <tr style=\"text-align: right;\">\n",
       "      <th></th>\n",
       "      <th>o1</th>\n",
       "      <th>o2</th>\n",
       "      <th>d1</th>\n",
       "      <th>d2</th>\n",
       "      <th>p0</th>\n",
       "      <th>p1</th>\n",
       "      <th>p2</th>\n",
       "      <th>p3</th>\n",
       "      <th>p4</th>\n",
       "      <th>p5</th>\n",
       "      <th>...</th>\n",
       "      <th>eta4</th>\n",
       "      <th>transport_mode4</th>\n",
       "      <th>distance5</th>\n",
       "      <th>price5</th>\n",
       "      <th>eta5</th>\n",
       "      <th>transport_mode5</th>\n",
       "      <th>distance6</th>\n",
       "      <th>price6</th>\n",
       "      <th>eta6</th>\n",
       "      <th>transport_mode6</th>\n",
       "    </tr>\n",
       "  </thead>\n",
       "  <tbody>\n",
       "    <tr>\n",
       "      <th>0</th>\n",
       "      <td>-0.2405</td>\n",
       "      <td>1.283963</td>\n",
       "      <td>-3.114013</td>\n",
       "      <td>3.733972</td>\n",
       "      <td>0.0</td>\n",
       "      <td>0.0</td>\n",
       "      <td>1.0</td>\n",
       "      <td>0.0</td>\n",
       "      <td>0.0</td>\n",
       "      <td>0.0</td>\n",
       "      <td>...</td>\n",
       "      <td>-1</td>\n",
       "      <td>-1</td>\n",
       "      <td>-1</td>\n",
       "      <td>-1</td>\n",
       "      <td>-1</td>\n",
       "      <td>-1</td>\n",
       "      <td>-1</td>\n",
       "      <td>-1</td>\n",
       "      <td>-1</td>\n",
       "      <td>-1</td>\n",
       "    </tr>\n",
       "  </tbody>\n",
       "</table>\n",
       "<p>1 rows × 98 columns</p>\n",
       "</div>"
      ],
      "text/plain": [
       "       o1        o2        d1        d2   p0   p1   p2   p3   p4   p5  \\\n",
       "0 -0.2405  1.283963 -3.114013  3.733972  0.0  0.0  1.0  0.0  0.0  0.0   \n",
       "\n",
       "        ...         eta4  transport_mode4  distance5  price5  eta5  \\\n",
       "0       ...           -1               -1         -1      -1    -1   \n",
       "\n",
       "   transport_mode5  distance6  price6  eta6  transport_mode6  \n",
       "0               -1         -1      -1    -1               -1  \n",
       "\n",
       "[1 rows x 98 columns]"
      ]
     },
     "execution_count": 85,
     "metadata": {},
     "output_type": "execute_result"
    }
   ],
   "source": [
    "CPQ_Profiles.head(1)"
   ]
  },
  {
   "cell_type": "code",
   "execution_count": null,
   "metadata": {},
   "outputs": [],
   "source": []
  }
 ],
 "metadata": {
  "kernelspec": {
   "display_name": "Python [conda env:brent]",
   "language": "python",
   "name": "conda-env-brent-py"
  },
  "language_info": {
   "codemirror_mode": {
    "name": "ipython",
    "version": 3
   },
   "file_extension": ".py",
   "mimetype": "text/x-python",
   "name": "python",
   "nbconvert_exporter": "python",
   "pygments_lexer": "ipython3",
   "version": "3.6.7"
  },
  "toc": {
   "base_numbering": 1,
   "nav_menu": {},
   "number_sections": true,
   "sideBar": true,
   "skip_h1_title": false,
   "title_cell": "Table of Contents",
   "title_sidebar": "Contents",
   "toc_cell": false,
   "toc_position": {},
   "toc_section_display": true,
   "toc_window_display": false
  },
  "varInspector": {
   "cols": {
    "lenName": 16,
    "lenType": 16,
    "lenVar": 40
   },
   "kernels_config": {
    "python": {
     "delete_cmd_postfix": "",
     "delete_cmd_prefix": "del ",
     "library": "var_list.py",
     "varRefreshCmd": "print(var_dic_list())"
    },
    "r": {
     "delete_cmd_postfix": ") ",
     "delete_cmd_prefix": "rm(",
     "library": "var_list.r",
     "varRefreshCmd": "cat(var_dic_list()) "
    }
   },
   "types_to_exclude": [
    "module",
    "function",
    "builtin_function_or_method",
    "instance",
    "_Feature"
   ],
   "window_display": false
  }
 },
 "nbformat": 4,
 "nbformat_minor": 2
}
