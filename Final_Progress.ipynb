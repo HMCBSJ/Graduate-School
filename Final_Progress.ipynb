{
 "cells": [
  {
   "cell_type": "markdown",
   "metadata": {},
   "source": [
    "# 期末專案進度報告 "
   ]
  },
  {
   "cell_type": "markdown",
   "metadata": {},
   "source": [
    "##  組員 : \n",
    "* ChoiHyunMin"
   ]
  },
  {
   "cell_type": "markdown",
   "metadata": {},
   "source": [
    "---"
   ]
  },  
  {
   "cell_type": "markdown",
   "metadata": {},
   "source": [
    "## 主題 : \n",
    "* 使用CNN, Latent Factor Model，Collaborative filtering來實現 電影個性化的推薦。"
   ]
  },
  {
   "cell_type": "markdown",
   "metadata": {},
   "source": [
    "---"
   ]
  },
  {
   "cell_type": "markdown",
   "metadata": {},
   "source": [
    "## 介紹 :\n",
    "* 推薦系統在信息化日益發達的今天尤其重要，比如網上購物、網上買書、新聞頭條、社交網絡、音樂網站、電影資訊等，有用戶的地方就需要推薦。對擁有相同喜好，相同行為習慣的人群等信息進行個性化的內容推薦。<br>關鍵 : 使用三個模型及不同方法前處理。比較用什麼特征，或用什麼模型跟參數的時候 預測結果比較好。"
   ]
  },
  {
   "cell_type": "markdown",
   "metadata": {},
   "source": [
    "---"
   ]
  },
  {
   "cell_type": "markdown",
   "metadata": {
    "ExecuteTime": {
     "start_time": "2019-05-26T08:53:20.375Z"
    }
   },
   "source": [
    "## 數據介紹 :\n",
    "* 資料庫  <https://grouplens.org/datasets/movielens><br>"
   ]
  },
  {
   "cell_type": "markdown",
   "metadata": {
    "ExecuteTime": {
     "end_time": "2019-05-23T17:28:24.455495Z",
     "start_time": "2019-05-23T17:28:24.449496Z"
    }
   },
   "source": [
    "### 1. user.dat 數據內容剖析：\n",
    "* Gender<br>\n",
    "男性：M  女性：F<br><br>\n",
    "* Age<br>\n",
    "1: “18”以下   18: \"18-24\"   25: \"25-34\"<br>\n",
    "35: \"35-44\"     45: \"45-49\"   50: \"50-55\"<br>\n",
    "56: \"56+\"<br><br>\n",
    "* Occupation :<br>\n",
    "0: \"other\" or not specified\n",
    "1: \"academic/educator\"\n",
    "2: \"artist\"\n",
    "3: \"clerical/admin\"\n",
    "4: \"college/grad student\"\n",
    "5: \"customer service\"\n",
    "6: \"doctor/health care\"\n",
    "7: \"executive/managerial\"\n",
    "8: \"farmer\"\n",
    "9: \"homemaker\"\n",
    "10: \"K-12 student\"\n",
    "11: \"lawyer\"\n",
    "12: \"programmer\"\n",
    "13: \"retired\"\n",
    "14: \"sales/marketing\"\n",
    "15: \"scientist\"\n",
    "16: \"self-employed\"\n",
    "17: \"technician/engineer\"\n",
    "18: \"tradesman/craftsman\"\n",
    "19: \"unemployed\"\n",
    "20: \"writer\"\n",
    "![ex_screensho](intro.png)"
   ]
  },
  {
   "cell_type": "markdown",
   "metadata": {},
   "source": [
    "### 2. movies.dat 數據內容剖析：<br>\n",
    "* Title與IMBD提供的數據保持一致，包含電影發布時間。\n",
    "![ex_screensho](moviedat.png)"
   ]
  },
  {
   "cell_type": "markdown",
   "metadata": {},
   "source": [
    "### 3. ratings.dat 數據內容剖析：<br>\n",
    "* Timestamps在實際訓練中將不使用。\n",
    "![ex_screensho](ratingdat.png)"
   ]
  },
  {
   "cell_type": "markdown",
   "metadata": {},
   "source": [
    "___"
   ]
  },
  {
   "cell_type": "markdown",
   "metadata": {},
   "source": [
    "## 實作方法 : \n",
    " 1. 使用CNN做出個性化推薦（圖片的方式去分析及訓練）\n",
    " 2. 使用CNN模型之後 跟個性化模型中有名的Latent Factor Model，Collaborative filtering運算發比較結果如何<br>\n",
    "![ex_screenshot](RS.png)\n",
    "___"
   ]
  },
  {
   "cell_type": "markdown",
   "metadata": {},
   "source": [
    "* input: User ID跟Movie ID 陪 已有的rating去訓練\n",
    "(以後也會加Gender跟年齡的部分)"
   ]
  },
  {
   "cell_type": "markdown",
   "metadata": {},
   "source": [
    "* output: 是rating(預測test資料裡面User對Movie的rating)然後 找最高分的rating推薦給User\n",
    "___"
   ]
  },
  {
   "cell_type": "markdown",
   "metadata": {},
   "source": [
    "## 目前進度 :\n",
    "  * 數據前處理 ： serID、occupation、movieID因為是單個數字直接帶入。Gender，age 利用map方式處理。\n",
    "![ex_screensho](PR1.png)<br>\n",
    "[Title，genres數字字典化並統一長度]<br>\n",
    "![ex_screensho](PR2.png)\n",
    "  * 開始建立CNN"
   ]
  },
   {
   "cell_type": "markdown",
   "metadata": {},
   "source": [
    "---"
   ]
  }, 
  {
   "cell_type": "markdown",
   "metadata": {},
   "source": [
    "## 專案排程與程序:"
   ]
  },
  {
   "cell_type": "markdown",
   "metadata": {},
   "source": [
    "日期 | 程序\n",
    "-----   |-----\n",
    "5/02  |收集資料\n",
    "5/20| 資料前處理\n",
    "5/26|建立CNN模型\n",
    "5/28|建立Latent Factor Model\n",
    "5/30|Collaborative filtering\n",
    "6/01|比較各個模型的結果\n",
    "6/02|做出研究結論\n",
    "6/03~6/06|補充及檢查所有研究及整理PPT\n",
    "6/07|提出期末專題"
   ]
  }
 ],
 "metadata": {
  "kernelspec": {
   "display_name": "Python 3",
   "language": "python",
   "name": "python3"
  },
  "language_info": {
   "codemirror_mode": {
    "name": "ipython",
    "version": 3
   },
   "file_extension": ".py",
   "mimetype": "text/x-python",
   "name": "python",
   "nbconvert_exporter": "python",
   "pygments_lexer": "ipython3",
   "version": "3.6.3"
  },
  "toc": {
   "base_numbering": 1,
   "nav_menu": {},
   "number_sections": true,
   "sideBar": true,
   "skip_h1_title": false,
   "title_cell": "Table of Contents",
   "title_sidebar": "Contents",
   "toc_cell": false,
   "toc_position": {},
   "toc_section_display": true,
   "toc_window_display": false
  },
  "varInspector": {
   "cols": {
    "lenName": 16,
    "lenType": 16,
    "lenVar": 40
   },
   "kernels_config": {
    "python": {
     "delete_cmd_postfix": "",
     "delete_cmd_prefix": "del ",
     "library": "var_list.py",
     "varRefreshCmd": "print(var_dic_list())"
    },
    "r": {
     "delete_cmd_postfix": ") ",
     "delete_cmd_prefix": "rm(",
     "library": "var_list.r",
     "varRefreshCmd": "cat(var_dic_list()) "
    }
   },
   "types_to_exclude": [
    "module",
    "function",
    "builtin_function_or_method",
    "instance",
    "_Feature"
   ],
   "window_display": false
  }
 },
 "nbformat": 4,
 "nbformat_minor": 2
}
